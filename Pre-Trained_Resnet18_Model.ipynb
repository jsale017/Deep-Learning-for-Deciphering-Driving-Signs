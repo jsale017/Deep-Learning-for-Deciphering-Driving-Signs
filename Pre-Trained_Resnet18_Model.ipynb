{
 "cells": [
  {
   "cell_type": "markdown",
   "id": "1b000e13",
   "metadata": {},
   "source": [
    "# Deep Learning for Deciphering Traffic Signs\n",
    "## Pre-trained Model Notebook\n",
    "_________________________________________________________________________________________________________________________________________________________________________________\n",
    "\n",
    "##### Contributors:\n",
    " Victor Floriano, Yifan Fan, Jose Salerno"
   ]
  },
  {
   "cell_type": "markdown",
   "id": "fa4347f5",
   "metadata": {},
   "source": [
    "## Problem Statement & Motivation\n",
    "As the world advances towards autonomous vehicles, our team has observed the remarkable efforts of large car manufacturers, who are working with data scientists to develop fully autonomous cars. Our team is excited to contribute to the development of this technology by creating a neural network model that will be able to classify different traffic signs. Our ultimate goal is to assist car makers in overcoming the challenges they may face in implementing neural network models that effectively read traffic signs and further their efforts toward a fully autonomous car or assisted driving. We believe autonomous driving to be an important problem to solve due to the great economic benefits it can generate for car manufacturers and the improvement of general driving safety.\n",
    "\n",
    "## Data Preparation\n",
    " We've selected the German Traffic Sign Recognition Benchmark (GTSRB) as our primary dataset. It's renowned for its complexity, featuring over 50,000 images across more than 40 classes of traffic signs. The GTSRB is publicly accessible through two resources. To efficiently manage the extensive and complex GTSRB dataset, our strategy integrates preprocessing for uniformity, data augmentation for robustness, and batch processing for computational efficiency. We'll employ distributed computing to parallelize operations, enhancing processing speed, and use stratified sampling for quick experimentation without compromising representativeness.\n",
    "\n",
    "\n",
    "\n",
    "---\n",
    "\n",
    "\n",
    "\n"
   ]
  },
  {
   "cell_type": "markdown",
   "id": "442da7e0",
   "metadata": {},
   "source": [
    "# Pre-Trained Models\n",
    "- We implemented the pre-trained model Resnet18, the reason why we choose Resnet18 was because of its strong performance in image classification. ResNet-18 originally uses an input size of 256x256 pixels, but it can automatically resize images to meet its input requirements. This allowed us to benefit from the models features on large dataset, enabling us to implement transfer learning in our particular task of classifying traffic signs. Finally, we adjusted the output layer to fit our number of classes when it came to classfication. \n",
    "\n",
    " \n",
    "________________________________________________________________________________________________________________________________________________\n",
    "\n",
    "Results: \n",
    "\n",
    "- Validation Accuracy = 99.66%"
   ]
  },
  {
   "cell_type": "code",
   "execution_count": 1,
   "id": "944e8f8d",
   "metadata": {},
   "outputs": [],
   "source": [
    "import torch\n",
    "from torch.utils.data import Dataset\n",
    "from torchvision import datasets, transforms\n",
    "from torchvision.transforms import ToTensor\n",
    "import matplotlib.pyplot as plt\n",
    "import numpy as np\n",
    "import pandas as pd\n",
    "import os\n",
    "from torch.utils.data import DataLoader, random_split\n",
    "import torch.nn as nn\n",
    "import torch.optim as optim"
   ]
  },
  {
   "cell_type": "code",
   "execution_count": 2,
   "id": "dd030daa",
   "metadata": {},
   "outputs": [
    {
     "data": {
      "text/plain": [
       "True"
      ]
     },
     "execution_count": 2,
     "metadata": {},
     "output_type": "execute_result"
    }
   ],
   "source": [
    "enable_wandb = True\n",
    "use_gpu = True\n",
    "gpu_available = torch.cuda.is_available()\n",
    "gpu_available"
   ]
  },
  {
   "cell_type": "code",
   "execution_count": 3,
   "id": "7950d439",
   "metadata": {},
   "outputs": [],
   "source": [
    "#Loading images - from Datacamp CNN course (cloud example)\n",
    "from torchvision.datasets import ImageFolder\n",
    "from torchvision import transforms\n",
    "\n",
    "train_transforms = transforms.Compose([\n",
    "    transforms.ToTensor(),\n",
    "    transforms.Resize((56,56))\n",
    "])\n",
    "\n",
    "dataset_train = ImageFolder(\n",
    "    'Train',\n",
    "    transform = train_transforms\n",
    ")"
   ]
  },
  {
   "cell_type": "code",
   "execution_count": 4,
   "id": "85c2e77d",
   "metadata": {},
   "outputs": [],
   "source": [
    "train_dataset, val_dataset = random_split(dataset_train, [0.8, 0.2])"
   ]
  },
  {
   "cell_type": "code",
   "execution_count": 8,
   "id": "dc774911",
   "metadata": {},
   "outputs": [
    {
     "name": "stdout",
     "output_type": "stream",
     "text": [
      "torch.Size([1, 3, 56, 56])\n",
      "Label: tensor([13])\n",
      "tensor([13])\n"
     ]
    },
    {
     "data": {
      "image/png": "[encoded data removed]",
      "text/plain": [
       "<Figure size 640x480 with 1 Axes>"
      ]
     },
     "metadata": {},
     "output_type": "display_data"
    }
   ],
   "source": [
    "from torch.utils.data import DataLoader\n",
    "\n",
    "#Trying to display images\n",
    "dataloader_train = DataLoader(\n",
    "    dataset_train,\n",
    "    shuffle=True,\n",
    "    batch_size=1,\n",
    ")\n",
    "\n",
    "image, label = next(iter(dataloader_train))\n",
    "print(image.shape)\n",
    "print('Label:',label)\n",
    "print(label)\n",
    "\n",
    "image = image.squeeze().permute(1,2,0)\n",
    "\n",
    "plt.imshow(image)\n",
    "plt.show()"
   ]
  },
  {
   "cell_type": "code",
   "execution_count": 9,
   "id": "f7c3993a",
   "metadata": {},
   "outputs": [
    {
     "name": "stdout",
     "output_type": "stream",
     "text": [
      "Class Weights:\n",
      "Class 0: 93.3786\n",
      "Class 1: 8.8331\n",
      "Class 10: 9.7560\n",
      "Class 11: 14.8557\n",
      "Class 12: 9.3379\n",
      "Class 13: 9.0785\n",
      "Class 14: 25.1404\n",
      "Class 15: 31.1262\n",
      "Class 16: 46.6893\n",
      "Class 17: 17.6662\n",
      "Class 18: 16.3412\n",
      "Class 19: 93.3786\n",
      "Class 2: 8.7153\n",
      "Class 20: 54.4708\n",
      "Class 21: 59.4227\n",
      "Class 22: 50.2808\n",
      "Class 23: 38.4500\n",
      "Class 24: 72.6278\n",
      "Class 25: 13.0730\n",
      "Class 26: 32.6825\n",
      "Class 27: 81.7062\n",
      "Class 28: 36.3139\n",
      "Class 29: 72.6278\n",
      "Class 3: 13.9074\n",
      "Class 30: 43.5767\n",
      "Class 31: 25.1404\n",
      "Class 32: 81.7062\n",
      "Class 33: 28.4608\n",
      "Class 34: 46.6893\n",
      "Class 35: 16.3412\n",
      "Class 36: 50.2808\n",
      "Class 37: 93.3786\n",
      "Class 38: 9.4732\n",
      "Class 39: 65.3650\n",
      "Class 4: 9.9038\n",
      "Class 40: 54.4708\n",
      "Class 41: 81.7062\n",
      "Class 42: 81.7062\n",
      "Class 5: 10.5427\n",
      "Class 6: 46.6893\n",
      "Class 7: 13.6177\n",
      "Class 8: 13.9074\n",
      "Class 9: 13.3398\n"
     ]
    }
   ],
   "source": [
    "num_samples = 39219\n",
    "num_images_per_class = {\n",
    "    0: 210, 1: 2220, 10: 2010, 11: 1320, 12: 2100, 13: 2160, 14: 780, 15: 630,\n",
    "    16: 420, 17: 1110, 18: 1200, 19: 210, 2: 2250, 20: 360, 21: 330, 22: 390,\n",
    "    23: 510, 24: 270, 25: 1500, 26: 600, 27: 240, 28: 540, 29: 270, 3: 1410,\n",
    "    30: 450, 31: 780, 32: 240, 33: 689, 34: 420, 35: 1200, 36: 390, 37: 210,\n",
    "    38: 2070, 39: 300, 4: 1980, 40: 360, 41: 240, 42: 240, 5: 1860, 6: 420,\n",
    "    7: 1440, 8: 1410, 9: 1470\n",
    "}\n",
    "\n",
    "class_weights = {}\n",
    "for class_id, num_images in num_images_per_class.items():\n",
    "    weight_for_class = num_samples / (num_images * 2)\n",
    "    class_weights[class_id] = weight_for_class\n",
    "\n",
    "print(\"Class Weights:\")\n",
    "for class_id, weight in class_weights.items():\n",
    "    print(f\"Class {class_id}: {weight:.4f}\")"
   ]
  },
  {
   "cell_type": "code",
   "execution_count": 10,
   "id": "53d48c0f",
   "metadata": {},
   "outputs": [],
   "source": [
    "class_weights = torch.tensor([\n",
    "    93.3786, 8.8331, 9.7560, 14.8557, 9.3379, 9.0785, 25.1404, 31.1262, 46.6893, 17.6662,\n",
    "    16.3412, 93.3786, 8.7153, 54.4708, 59.4227, 50.2808, 38.4500, 72.6278, 13.0730, 32.6825,\n",
    "    81.7062, 36.3139, 72.6278, 13.9074, 43.5767, 25.1404, 81.7062, 28.4608, 46.6893, 16.3412,\n",
    "    50.2808, 93.3786, 9.4732, 65.3650, 9.9038, 54.4708, 81.7062, 81.7062, 10.5427, 46.6893,\n",
    "    13.6177, 13.9074, 13.3398\n",
    "])\n",
    "\n",
    "criterion = nn.BCEWithLogitsLoss(weight= class_weights)"
   ]
  },
  {
   "cell_type": "code",
   "execution_count": 11,
   "id": "188687d8",
   "metadata": {},
   "outputs": [],
   "source": [
    "# Hyperparameters\n",
    "\n",
    "configs = {\n",
    "    \"experiment_name\": \"Pre-trained Model\",\n",
    "    \"data_augmentation\":True,\n",
    "\n",
    "    # Data\n",
    "    \"img_dimensions\" : (3,56,56),\n",
    "    \"batch_size\" : 350,\n",
    "    \"num_classes\" : 43,\n",
    "\n",
    "    # CNN\n",
    "    \"filter_sizes\" : [4, 16, 32, 64],\n",
    "    \"kernel_size\" : 5,\n",
    "    \"stride\": 2,\n",
    "    \"padding\":2,\n",
    "\n",
    "    #Optimzation\n",
    "    \"learning_rate\" : 0.0001,\n",
    "    \"epochs\" : 25,\n",
    "    \"weight_decay\" : 0.00001,\n",
    "    \"epochs\" : 35\n",
    "}\n"
   ]
  },
  {
   "cell_type": "code",
   "execution_count": 12,
   "id": "74cb33fe",
   "metadata": {},
   "outputs": [],
   "source": [
    "train_loader = DataLoader(dataset=train_dataset, batch_size = configs['batch_size'], shuffle=True)\n",
    "val_loader = DataLoader(dataset=val_dataset, batch_size = configs['batch_size'], shuffle=False)"
   ]
  },
  {
   "cell_type": "code",
   "execution_count": 13,
   "id": "e7ab5686",
   "metadata": {},
   "outputs": [],
   "source": [
    "if configs[\"data_augmentation\"]:\n",
    "  transform = transforms.Compose([\n",
    "      transforms.RandomHorizontalFlip(0.5),\n",
    "      transforms.Resize(56),\n",
    "      transforms.RandomRotation(45),\n",
    "      transforms.ToTensor(),\n",
    "      transforms.Normalize(mean=[0.5, 0.5, 0.5], std=[0.5, 0.5, 0.5])\n",
    "    ])\n",
    "else:\n",
    "  transform = transforms.Compose([\n",
    "      transforms.Resize(56),\n",
    "      transforms.ToTensor(),\n",
    "      transforms.Normalize(mean=[0.5, 0.5, 0.5], std=[0.5, 0.5, 0.5])\n",
    "    ])"
   ]
  },
  {
   "cell_type": "code",
   "execution_count": 14,
   "id": "bf293e9c",
   "metadata": {},
   "outputs": [],
   "source": [
    "import torch\n",
    "import torch.nn as nn\n",
    "import torch.nn.functional as F\n",
    "from torchvision import models"
   ]
  },
  {
   "cell_type": "code",
   "execution_count": 15,
   "id": "4cb1e780",
   "metadata": {},
   "outputs": [],
   "source": [
    "import torchmetrics"
   ]
  },
  {
   "cell_type": "code",
   "execution_count": 16,
   "id": "422acdff",
   "metadata": {},
   "outputs": [],
   "source": [
    "from torchvision.models import resnet18, ResNet18_Weights\n",
    "\n",
    "# Load the pre-trained ResNet-18 model with specified weights\n",
    "weights = ResNet18_Weights.IMAGENET1K_V1  # This is equivalent to the previously used pretrained=True\n",
    "model = resnet18(weights=weights)"
   ]
  },
  {
   "cell_type": "code",
   "execution_count": 17,
   "id": "e809a0c7",
   "metadata": {},
   "outputs": [
    {
     "name": "stdout",
     "output_type": "stream",
     "text": [
      "ResNet(\n",
      "  (conv1): Conv2d(3, 64, kernel_size=(7, 7), stride=(2, 2), padding=(3, 3), bias=False)\n",
      "  (bn1): BatchNorm2d(64, eps=1e-05, momentum=0.1, affine=True, track_running_stats=True)\n",
      "  (relu): ReLU(inplace=True)\n",
      "  (maxpool): MaxPool2d(kernel_size=3, stride=2, padding=1, dilation=1, ceil_mode=False)\n",
      "  (layer1): Sequential(\n",
      "    (0): BasicBlock(\n",
      "      (conv1): Conv2d(64, 64, kernel_size=(3, 3), stride=(1, 1), padding=(1, 1), bias=False)\n",
      "      (bn1): BatchNorm2d(64, eps=1e-05, momentum=0.1, affine=True, track_running_stats=True)\n",
      "      (relu): ReLU(inplace=True)\n",
      "      (conv2): Conv2d(64, 64, kernel_size=(3, 3), stride=(1, 1), padding=(1, 1), bias=False)\n",
      "      (bn2): BatchNorm2d(64, eps=1e-05, momentum=0.1, affine=True, track_running_stats=True)\n",
      "    )\n",
      "    (1): BasicBlock(\n",
      "      (conv1): Conv2d(64, 64, kernel_size=(3, 3), stride=(1, 1), padding=(1, 1), bias=False)\n",
      "      (bn1): BatchNorm2d(64, eps=1e-05, momentum=0.1, affine=True, track_running_stats=True)\n",
      "      (relu): ReLU(inplace=True)\n",
      "      (conv2): Conv2d(64, 64, kernel_size=(3, 3), stride=(1, 1), padding=(1, 1), bias=False)\n",
      "      (bn2): BatchNorm2d(64, eps=1e-05, momentum=0.1, affine=True, track_running_stats=True)\n",
      "    )\n",
      "  )\n",
      "  (layer2): Sequential(\n",
      "    (0): BasicBlock(\n",
      "      (conv1): Conv2d(64, 128, kernel_size=(3, 3), stride=(2, 2), padding=(1, 1), bias=False)\n",
      "      (bn1): BatchNorm2d(128, eps=1e-05, momentum=0.1, affine=True, track_running_stats=True)\n",
      "      (relu): ReLU(inplace=True)\n",
      "      (conv2): Conv2d(128, 128, kernel_size=(3, 3), stride=(1, 1), padding=(1, 1), bias=False)\n",
      "      (bn2): BatchNorm2d(128, eps=1e-05, momentum=0.1, affine=True, track_running_stats=True)\n",
      "      (downsample): Sequential(\n",
      "        (0): Conv2d(64, 128, kernel_size=(1, 1), stride=(2, 2), bias=False)\n",
      "        (1): BatchNorm2d(128, eps=1e-05, momentum=0.1, affine=True, track_running_stats=True)\n",
      "      )\n",
      "    )\n",
      "    (1): BasicBlock(\n",
      "      (conv1): Conv2d(128, 128, kernel_size=(3, 3), stride=(1, 1), padding=(1, 1), bias=False)\n",
      "      (bn1): BatchNorm2d(128, eps=1e-05, momentum=0.1, affine=True, track_running_stats=True)\n",
      "      (relu): ReLU(inplace=True)\n",
      "      (conv2): Conv2d(128, 128, kernel_size=(3, 3), stride=(1, 1), padding=(1, 1), bias=False)\n",
      "      (bn2): BatchNorm2d(128, eps=1e-05, momentum=0.1, affine=True, track_running_stats=True)\n",
      "    )\n",
      "  )\n",
      "  (layer3): Sequential(\n",
      "    (0): BasicBlock(\n",
      "      (conv1): Conv2d(128, 256, kernel_size=(3, 3), stride=(2, 2), padding=(1, 1), bias=False)\n",
      "      (bn1): BatchNorm2d(256, eps=1e-05, momentum=0.1, affine=True, track_running_stats=True)\n",
      "      (relu): ReLU(inplace=True)\n",
      "      (conv2): Conv2d(256, 256, kernel_size=(3, 3), stride=(1, 1), padding=(1, 1), bias=False)\n",
      "      (bn2): BatchNorm2d(256, eps=1e-05, momentum=0.1, affine=True, track_running_stats=True)\n",
      "      (downsample): Sequential(\n",
      "        (0): Conv2d(128, 256, kernel_size=(1, 1), stride=(2, 2), bias=False)\n",
      "        (1): BatchNorm2d(256, eps=1e-05, momentum=0.1, affine=True, track_running_stats=True)\n",
      "      )\n",
      "    )\n",
      "    (1): BasicBlock(\n",
      "      (conv1): Conv2d(256, 256, kernel_size=(3, 3), stride=(1, 1), padding=(1, 1), bias=False)\n",
      "      (bn1): BatchNorm2d(256, eps=1e-05, momentum=0.1, affine=True, track_running_stats=True)\n",
      "      (relu): ReLU(inplace=True)\n",
      "      (conv2): Conv2d(256, 256, kernel_size=(3, 3), stride=(1, 1), padding=(1, 1), bias=False)\n",
      "      (bn2): BatchNorm2d(256, eps=1e-05, momentum=0.1, affine=True, track_running_stats=True)\n",
      "    )\n",
      "  )\n",
      "  (layer4): Sequential(\n",
      "    (0): BasicBlock(\n",
      "      (conv1): Conv2d(256, 512, kernel_size=(3, 3), stride=(2, 2), padding=(1, 1), bias=False)\n",
      "      (bn1): BatchNorm2d(512, eps=1e-05, momentum=0.1, affine=True, track_running_stats=True)\n",
      "      (relu): ReLU(inplace=True)\n",
      "      (conv2): Conv2d(512, 512, kernel_size=(3, 3), stride=(1, 1), padding=(1, 1), bias=False)\n",
      "      (bn2): BatchNorm2d(512, eps=1e-05, momentum=0.1, affine=True, track_running_stats=True)\n",
      "      (downsample): Sequential(\n",
      "        (0): Conv2d(256, 512, kernel_size=(1, 1), stride=(2, 2), bias=False)\n",
      "        (1): BatchNorm2d(512, eps=1e-05, momentum=0.1, affine=True, track_running_stats=True)\n",
      "      )\n",
      "    )\n",
      "    (1): BasicBlock(\n",
      "      (conv1): Conv2d(512, 512, kernel_size=(3, 3), stride=(1, 1), padding=(1, 1), bias=False)\n",
      "      (bn1): BatchNorm2d(512, eps=1e-05, momentum=0.1, affine=True, track_running_stats=True)\n",
      "      (relu): ReLU(inplace=True)\n",
      "      (conv2): Conv2d(512, 512, kernel_size=(3, 3), stride=(1, 1), padding=(1, 1), bias=False)\n",
      "      (bn2): BatchNorm2d(512, eps=1e-05, momentum=0.1, affine=True, track_running_stats=True)\n",
      "    )\n",
      "  )\n",
      "  (avgpool): AdaptiveAvgPool2d(output_size=(1, 1))\n",
      "  (fc): Linear(in_features=512, out_features=1000, bias=True)\n",
      ")\n"
     ]
    }
   ],
   "source": [
    "print(model)"
   ]
  },
  {
   "cell_type": "code",
   "execution_count": 18,
   "id": "24cdccd9",
   "metadata": {},
   "outputs": [
    {
     "data": {
      "text/plain": [
       "=================================================================\n",
       "Layer (type:depth-idx)                   Param #\n",
       "=================================================================\n",
       "ResNet                                   --\n",
       "├─Conv2d: 1-1                            9,408\n",
       "├─BatchNorm2d: 1-2                       128\n",
       "├─ReLU: 1-3                              --\n",
       "├─MaxPool2d: 1-4                         --\n",
       "├─Sequential: 1-5                        --\n",
       "│    └─BasicBlock: 2-1                   --\n",
       "│    │    └─Conv2d: 3-1                  36,864\n",
       "│    │    └─BatchNorm2d: 3-2             128\n",
       "│    │    └─ReLU: 3-3                    --\n",
       "│    │    └─Conv2d: 3-4                  36,864\n",
       "│    │    └─BatchNorm2d: 3-5             128\n",
       "│    └─BasicBlock: 2-2                   --\n",
       "│    │    └─Conv2d: 3-6                  36,864\n",
       "│    │    └─BatchNorm2d: 3-7             128\n",
       "│    │    └─ReLU: 3-8                    --\n",
       "│    │    └─Conv2d: 3-9                  36,864\n",
       "│    │    └─BatchNorm2d: 3-10            128\n",
       "├─Sequential: 1-6                        --\n",
       "│    └─BasicBlock: 2-3                   --\n",
       "│    │    └─Conv2d: 3-11                 73,728\n",
       "│    │    └─BatchNorm2d: 3-12            256\n",
       "│    │    └─ReLU: 3-13                   --\n",
       "│    │    └─Conv2d: 3-14                 147,456\n",
       "│    │    └─BatchNorm2d: 3-15            256\n",
       "│    │    └─Sequential: 3-16             8,448\n",
       "│    └─BasicBlock: 2-4                   --\n",
       "│    │    └─Conv2d: 3-17                 147,456\n",
       "│    │    └─BatchNorm2d: 3-18            256\n",
       "│    │    └─ReLU: 3-19                   --\n",
       "│    │    └─Conv2d: 3-20                 147,456\n",
       "│    │    └─BatchNorm2d: 3-21            256\n",
       "├─Sequential: 1-7                        --\n",
       "│    └─BasicBlock: 2-5                   --\n",
       "│    │    └─Conv2d: 3-22                 294,912\n",
       "│    │    └─BatchNorm2d: 3-23            512\n",
       "│    │    └─ReLU: 3-24                   --\n",
       "│    │    └─Conv2d: 3-25                 589,824\n",
       "│    │    └─BatchNorm2d: 3-26            512\n",
       "│    │    └─Sequential: 3-27             33,280\n",
       "│    └─BasicBlock: 2-6                   --\n",
       "│    │    └─Conv2d: 3-28                 589,824\n",
       "│    │    └─BatchNorm2d: 3-29            512\n",
       "│    │    └─ReLU: 3-30                   --\n",
       "│    │    └─Conv2d: 3-31                 589,824\n",
       "│    │    └─BatchNorm2d: 3-32            512\n",
       "├─Sequential: 1-8                        --\n",
       "│    └─BasicBlock: 2-7                   --\n",
       "│    │    └─Conv2d: 3-33                 1,179,648\n",
       "│    │    └─BatchNorm2d: 3-34            1,024\n",
       "│    │    └─ReLU: 3-35                   --\n",
       "│    │    └─Conv2d: 3-36                 2,359,296\n",
       "│    │    └─BatchNorm2d: 3-37            1,024\n",
       "│    │    └─Sequential: 3-38             132,096\n",
       "│    └─BasicBlock: 2-8                   --\n",
       "│    │    └─Conv2d: 3-39                 2,359,296\n",
       "│    │    └─BatchNorm2d: 3-40            1,024\n",
       "│    │    └─ReLU: 3-41                   --\n",
       "│    │    └─Conv2d: 3-42                 2,359,296\n",
       "│    │    └─BatchNorm2d: 3-43            1,024\n",
       "├─AdaptiveAvgPool2d: 1-9                 --\n",
       "├─Linear: 1-10                           513,000\n",
       "=================================================================\n",
       "Total params: 11,689,512\n",
       "Trainable params: 11,689,512\n",
       "Non-trainable params: 0\n",
       "================================================================="
      ]
     },
     "execution_count": 18,
     "metadata": {},
     "output_type": "execute_result"
    }
   ],
   "source": [
    "from torchinfo import summary\n",
    "summary(model)"
   ]
  },
  {
   "cell_type": "code",
   "execution_count": 19,
   "id": "64958cca",
   "metadata": {},
   "outputs": [],
   "source": [
    "criterion = nn.CrossEntropyLoss()\n",
    "optimizer = optim.Adam(model.parameters(), lr = configs['learning_rate'], weight_decay = configs['weight_decay'])"
   ]
  },
  {
   "cell_type": "code",
   "execution_count": 20,
   "id": "f7566243",
   "metadata": {},
   "outputs": [],
   "source": [
    "def get_accuracy(dataloader, model):\n",
    "    device = 'cuda' if torch.cuda.is_available() else 'cpu'\n",
    "    acc = torchmetrics.Accuracy(task=\"MULTICLASS\", num_classes=configs['num_classes']).to(device)\n",
    "\n",
    "    model.eval()\n",
    "    with torch.no_grad():\n",
    "        for images, labels in dataloader:\n",
    "            images = images.to(device)\n",
    "            labels = labels.to(device)\n",
    "\n",
    "            outputs = model(images)\n",
    "            preds = torch.argmax(outputs, axis=1)\n",
    "            acc.update(preds, labels)\n",
    "\n",
    "    accuracy = acc.compute()\n",
    "    model.train()\n",
    "    return accuracy"
   ]
  },
  {
   "cell_type": "code",
   "execution_count": 21,
   "id": "311ab0a5",
   "metadata": {},
   "outputs": [],
   "source": [
    "def get_loss(loader):\n",
    "    model.eval()\n",
    "    loss = 0\n",
    "    with torch.no_grad():\n",
    "        for i, (images, labels) in enumerate(loader):\n",
    "            if gpu_available and use_gpu:\n",
    "                images = images.cuda()\n",
    "                labels = labels.cuda()\n",
    "            outputs = model(images)\n",
    "            loss = loss + criterion(outputs, labels)\n",
    "    return loss / len(loader.dataset)"
   ]
  },
  {
   "cell_type": "code",
   "execution_count": 22,
   "id": "19de227e",
   "metadata": {},
   "outputs": [],
   "source": [
    "class EarlyStopper:\n",
    "    def __init__(self, patience=1):\n",
    "        self.patience = patience\n",
    "        self.counter = 0\n",
    "        self.min_validation_loss = float('inf')\n",
    "\n",
    "    def early_stop(self, validation_loss):\n",
    "        if validation_loss < self.min_validation_loss:\n",
    "            self.min_validation_loss = validation_loss\n",
    "            self.counter = 0\n",
    "            torch.save(model.state_dict(), \"./best_model.pt\")\n",
    "        elif validation_loss > self.min_validation_loss:\n",
    "            self.counter += 1\n",
    "            if self.counter >= self.patience:\n",
    "                return True\n",
    "        return False\n",
    "\n",
    "early_stopper = EarlyStopper(patience=3)"
   ]
  },
  {
   "cell_type": "code",
   "execution_count": 27,
   "id": "a2f2eb39",
   "metadata": {},
   "outputs": [
    {
     "name": "stdout",
     "output_type": "stream",
     "text": [
      "Unique labels in training data: {0, 1, 2, 3, 4, 5, 6, 7, 8, 9, 10, 11, 12, 13, 14, 15, 16, 17, 18, 19, 20, 21, 22, 23, 24, 25, 26, 27, 28, 29, 30, 31, 32, 33, 34, 35, 36, 37, 38, 39, 40, 41, 42}\n"
     ]
    }
   ],
   "source": [
    "unique_labels = set()\n",
    "for _, labels in train_loader:\n",
    "    unique_labels.update(labels.numpy())\n",
    "print(\"Unique labels in training data:\", unique_labels)\n"
   ]
  },
  {
   "cell_type": "code",
   "execution_count": 35,
   "id": "dfe2df4c",
   "metadata": {},
   "outputs": [],
   "source": [
    "num_ftrs = model.fc.in_features\n",
    "model.fc = nn.Linear(num_ftrs, 43)  # Ensure this matches the number of classes"
   ]
  },
  {
   "cell_type": "code",
   "execution_count": 33,
   "id": "fbbc2786",
   "metadata": {},
   "outputs": [],
   "source": [
    "from torchmetrics import Accuracy\n",
    "\n",
    "# Assuming device is defined as 'cuda' if available\n",
    "device = torch.device(\"cuda\" if torch.cuda.is_available() else \"cpu\")\n",
    "accuracy_metric = Accuracy(num_classes=43, average='macro', task='multiclass').to(device)\n"
   ]
  },
  {
   "cell_type": "code",
   "execution_count": 39,
   "id": "3f06a3d6",
   "metadata": {
    "scrolled": true
   },
   "outputs": [
    {
     "name": "stdout",
     "output_type": "stream",
     "text": [
      "Epoch 1 batch 1 . Training Loss:  0.060595255345106125\n",
      "Epoch [1/35], Train Accuracy: 0.9944\n",
      "Validation Accuracy: 0.9912\n",
      "Epoch 2 batch 1 . Training Loss:  0.01945233717560768\n",
      "Epoch [2/35], Train Accuracy: 0.9994\n",
      "Validation Accuracy: 0.9930\n",
      "Epoch 3 batch 1 . Training Loss:  0.01179986260831356\n",
      "Epoch [3/35], Train Accuracy: 0.9999\n",
      "Validation Accuracy: 0.9944\n",
      "Epoch 4 batch 1 . Training Loss:  0.006606792099773884\n",
      "Epoch [4/35], Train Accuracy: 0.9999\n",
      "Validation Accuracy: 0.9949\n",
      "Epoch 5 batch 1 . Training Loss:  0.005559645593166351\n",
      "Epoch [5/35], Train Accuracy: 0.9999\n",
      "Validation Accuracy: 0.9955\n",
      "Epoch 6 batch 1 . Training Loss:  0.004781764466315508\n",
      "Epoch [6/35], Train Accuracy: 1.0000\n",
      "Validation Accuracy: 0.9958\n",
      "Epoch 7 batch 1 . Training Loss:  0.003677635220810771\n",
      "Epoch [7/35], Train Accuracy: 1.0000\n",
      "Validation Accuracy: 0.9958\n",
      "Epoch 8 batch 1 . Training Loss:  0.002481186995282769\n",
      "Epoch [8/35], Train Accuracy: 1.0000\n",
      "Validation Accuracy: 0.9959\n",
      "Epoch 9 batch 1 . Training Loss:  0.0037411150988191366\n",
      "Epoch [9/35], Train Accuracy: 1.0000\n",
      "Validation Accuracy: 0.9960\n",
      "Epoch 10 batch 1 . Training Loss:  0.002446655184030533\n",
      "Epoch [10/35], Train Accuracy: 1.0000\n",
      "Validation Accuracy: 0.9955\n",
      "Epoch 11 batch 1 . Training Loss:  0.001604122924618423\n",
      "Epoch [11/35], Train Accuracy: 1.0000\n",
      "Validation Accuracy: 0.9962\n",
      "Epoch 12 batch 1 . Training Loss:  0.0014612269587814808\n",
      "Epoch [12/35], Train Accuracy: 1.0000\n",
      "Validation Accuracy: 0.9964\n",
      "Epoch 13 batch 1 . Training Loss:  0.0012992264237254858\n",
      "Epoch [13/35], Train Accuracy: 1.0000\n",
      "Validation Accuracy: 0.9963\n",
      "Epoch 14 batch 1 . Training Loss:  0.0013003773055970669\n",
      "Epoch [14/35], Train Accuracy: 1.0000\n",
      "Validation Accuracy: 0.9964\n",
      "Epoch 15 batch 1 . Training Loss:  0.0012921163579449058\n",
      "Epoch [15/35], Train Accuracy: 1.0000\n",
      "Validation Accuracy: 0.9960\n",
      "Epoch 16 batch 1 . Training Loss:  0.0009342683479189873\n",
      "Epoch [16/35], Train Accuracy: 1.0000\n",
      "Validation Accuracy: 0.9964\n",
      "Epoch 17 batch 1 . Training Loss:  0.0009390144841745496\n",
      "Epoch [17/35], Train Accuracy: 1.0000\n",
      "Validation Accuracy: 0.9966\n",
      "Epoch 18 batch 1 . Training Loss:  0.0009682222153060138\n",
      "Epoch [18/35], Train Accuracy: 1.0000\n",
      "Validation Accuracy: 0.9968\n",
      "Epoch 19 batch 1 . Training Loss:  0.0007424869108945131\n",
      "Epoch [19/35], Train Accuracy: 1.0000\n",
      "Validation Accuracy: 0.9967\n",
      "Epoch 20 batch 1 . Training Loss:  0.0007208964671008289\n",
      "Epoch [20/35], Train Accuracy: 1.0000\n",
      "Validation Accuracy: 0.9967\n",
      "Epoch 21 batch 1 . Training Loss:  0.0007396045839414\n",
      "Epoch [21/35], Train Accuracy: 1.0000\n",
      "Validation Accuracy: 0.9963\n",
      "Epoch 22 batch 1 . Training Loss:  0.0006499577430076897\n",
      "Epoch [22/35], Train Accuracy: 1.0000\n",
      "Validation Accuracy: 0.9966\n",
      "Epoch 23 batch 1 . Training Loss:  0.0004961623926647007\n",
      "Epoch [23/35], Train Accuracy: 1.0000\n",
      "Validation Accuracy: 0.9966\n",
      "Epoch 24 batch 1 . Training Loss:  0.0005411219317466021\n",
      "Epoch [24/35], Train Accuracy: 1.0000\n",
      "Validation Accuracy: 0.9966\n",
      "Epoch 25 batch 1 . Training Loss:  0.00043105491204187274\n",
      "Epoch [25/35], Train Accuracy: 1.0000\n",
      "Validation Accuracy: 0.9968\n",
      "Epoch 26 batch 1 . Training Loss:  0.00041648829937912524\n",
      "Epoch [26/35], Train Accuracy: 1.0000\n",
      "Validation Accuracy: 0.9969\n",
      "Epoch 27 batch 1 . Training Loss:  0.00046550692059099674\n",
      "Epoch [27/35], Train Accuracy: 1.0000\n",
      "Validation Accuracy: 0.9966\n",
      "Epoch 28 batch 1 . Training Loss:  0.00046523421769961715\n",
      "Epoch [28/35], Train Accuracy: 1.0000\n",
      "Validation Accuracy: 0.9969\n",
      "Epoch 29 batch 1 . Training Loss:  0.0004270709468983114\n",
      "Epoch [29/35], Train Accuracy: 1.0000\n",
      "Validation Accuracy: 0.9971\n",
      "Epoch 30 batch 1 . Training Loss:  0.000335817807354033\n",
      "Epoch [30/35], Train Accuracy: 1.0000\n",
      "Validation Accuracy: 0.9968\n",
      "Epoch 31 batch 1 . Training Loss:  0.00038302186294458807\n",
      "Epoch [31/35], Train Accuracy: 1.0000\n",
      "Validation Accuracy: 0.9969\n",
      "Epoch 32 batch 1 . Training Loss:  0.00032991531770676374\n",
      "Epoch [32/35], Train Accuracy: 1.0000\n",
      "Validation Accuracy: 0.9954\n",
      "Epoch 33 batch 1 . Training Loss:  0.00035585876321420074\n",
      "Epoch [33/35], Train Accuracy: 0.9959\n",
      "Validation Accuracy: 0.9898\n",
      "Epoch 34 batch 1 . Training Loss:  0.002432066947221756\n",
      "Epoch [34/35], Train Accuracy: 0.9990\n",
      "Validation Accuracy: 0.9960\n",
      "Epoch 35 batch 1 . Training Loss:  0.010140079073607922\n",
      "Epoch [35/35], Train Accuracy: 0.9996\n",
      "Validation Accuracy: 0.9966\n"
     ]
    }
   ],
   "source": [
    "for epoch in range(configs['epochs']):\n",
    "    model.train()\n",
    "    for i, (images, labels) in enumerate(train_loader):\n",
    "        if gpu_available and use_gpu:\n",
    "            images = images.to(device)\n",
    "            labels = labels.to(device)\n",
    "            model = model.to(device)\n",
    "        \n",
    "        optimizer.zero_grad()\n",
    "        outputs = model(images)\n",
    "        _, preds = torch.max(outputs, 1)\n",
    "        \n",
    "        loss = criterion(outputs, labels)\n",
    "        loss.backward()\n",
    "        optimizer.step()\n",
    "        \n",
    "        # Both preds and labels need to be on the same device\n",
    "        preds = preds.to(device)\n",
    "        labels = labels.to(device)  # Redundant if already on GPU, but ensures consistency\n",
    "\n",
    "        # Update metric\n",
    "        accuracy_metric.update(preds, labels)\n",
    "        \n",
    "        if i % 100 == 0:\n",
    "            print(\"Epoch\", epoch + 1, \"batch\", i + 1, \". Training Loss: \", loss.item())\n",
    "    train_acc = accuracy_metric.compute()\n",
    "    print(f'Epoch [{epoch + 1}/{configs[\"epochs\"]}], Train Accuracy: {train_acc.item():.4f}')\n",
    "    accuracy_metric.reset()\n",
    "    # Assuming get_accuracy and get_loss are updated to handle device transfers\n",
    "    val_acc = get_accuracy(val_loader, model)\n",
    "    validation_loss = get_loss(val_loader)\n",
    "\n",
    "    print(f'Validation Accuracy: {val_acc.item():.4f}')\n"
   ]
  },
  {
   "cell_type": "markdown",
   "id": "bdc2c8f9",
   "metadata": {},
   "source": [
    "____"
   ]
  },
  {
   "cell_type": "markdown",
   "id": "bf50daa1",
   "metadata": {},
   "source": [
    "## Sources\n",
    "- Generative AI was utilized for Debugging, code improvement, sentence structure and grammar.\n",
    "- Transfer Learning Notebook "
   ]
  }
 ],
 "metadata": {
  "kernelspec": {
   "display_name": "Python 3 (ipykernel)",
   "language": "python",
   "name": "python3"
  },
  "language_info": {
   "codemirror_mode": {
    "name": "ipython",
    "version": 3
   },
   "file_extension": ".py",
   "mimetype": "text/x-python",
   "name": "python",
   "nbconvert_exporter": "python",
   "pygments_lexer": "ipython3",
   "version": "3.10.12"
  }
 },
 "nbformat": 4,
 "nbformat_minor": 5
}
