{
 "cells": [
  {
   "cell_type": "markdown",
   "metadata": {
    "id": "OKlU1qk4Zly7"
   },
   "source": [
    "# Deep Learning for Deciphering Traffic Signs\n",
    "# Draft Models Notebook\n",
    "_________________________________________________________________________________________________________________________________________________________________________________\n",
    "\n",
    "##### Contributors:\n",
    " Victor Floriano, Yifan Fan, Jose Salerno"
   ]
  },
  {
   "cell_type": "markdown",
   "metadata": {
    "id": "2iFnzTGUdjrz"
   },
   "source": [
    "## Problem Statement & Motivation\n",
    "As the world advances towards autonomous vehicles, our team has observed the remarkable efforts of large car manufacturers, who are working with data scientists to develop fully autonomous cars. Our team is excited to contribute to the development of this technology by creating a neural network model that will be able to classify different traffic signs. Our ultimate goal is to assist car makers in overcoming the challenges they may face in implementing neural network models that effectively read traffic signs and further their efforts toward a fully autonomous car or assisted driving. We believe autonomous driving to be an important problem to solve due to the great economic benefits it can generate for car manufacturers and the improvement of general driving safety.\n",
    "\n",
    "## Data Preparation\n",
    " We've selected the German Traffic Sign Recognition Benchmark (GTSRB) as our primary dataset. It's renowned for its complexity, featuring over 50,000 images across more than 40 classes of traffic signs. The GTSRB is publicly accessible through two resources. To efficiently manage the extensive and complex GTSRB dataset, our strategy integrates preprocessing for uniformity, data augmentation for robustness, and batch processing for computational efficiency. We'll employ distributed computing to parallelize operations, enhancing processing speed, and use stratified sampling for quick experimentation without compromising representativeness.\n",
    "\n",
    "\n",
    "\n",
    "---\n",
    "\n",
    "\n",
    "\n"
   ]
  },
  {
   "cell_type": "markdown",
   "metadata": {},
   "source": [
    "## Draft Models\n",
    "\n",
    "This notebook represents the initial phase of our project's model creation, focusing on experimenting with MLP (Multi-Layer Perceptron) and CNN (Convolutional Neural Network) models. The primary goal of this phase was to explore different model architectures and their performance in our specific use case. \n",
    "\n",
    "Due to the constraints of the Colab environment, this initial phase was limited in terms of computational resources. Despite these limitations, the insights gained from this exploration were instrumental in guiding our approach to model development.\n",
    "\n",
    "These are the final notebooks of our models:\n",
    "\n",
    "- MLP_Models.ipynb\n",
    "\n",
    "- CNN_Models.ipynb\n",
    "\n",
    "- SVM_Baseline_Model.ipynb\n",
    "__________________________________________________________________________________________________________________________________\n",
    "\n",
    "Results: \n",
    "- MLP initial Validation Accuracy: 0.39\n",
    "- CNN initial Validation Accuracy: 0.45"
   ]
  },
  {
   "cell_type": "markdown",
   "metadata": {
    "id": "JXPh9xcKdsh3"
   },
   "source": [
    "## Importing Packages"
   ]
  },
  {
   "cell_type": "code",
   "execution_count": 1,
   "metadata": {
    "id": "DaPgqKKKZlaG"
   },
   "outputs": [],
   "source": [
    "import torch\n",
    "from torch.utils.data import Dataset\n",
    "from torchvision import datasets, transforms\n",
    "from torchvision.transforms import ToTensor\n",
    "import matplotlib.pyplot as plt\n",
    "import numpy as np\n",
    "import pandas as pd\n",
    "import os\n",
    "from torch.utils.data import DataLoader, random_split\n",
    "import torch.nn as nn\n",
    "import torch.optim as optim"
   ]
  },
  {
   "cell_type": "code",
   "execution_count": null,
   "metadata": {
    "colab": {
     "base_uri": "https://localhost:8080/"
    },
    "id": "gvoyQffZ2-HM",
    "outputId": "8af2580a-504c-4e7e-d697-b06cb97c018b"
   },
   "outputs": [
    {
     "name": "stdout",
     "output_type": "stream",
     "text": [
      "Drive already mounted at /content/drive; to attempt to forcibly remount, call drive.mount(\"/content/drive\", force_remount=True).\n"
     ]
    }
   ],
   "source": [
    "from google.colab import drive\n",
    "drive.mount('/content/drive')"
   ]
  },
  {
   "cell_type": "code",
   "execution_count": 2,
   "metadata": {
    "colab": {
     "base_uri": "https://localhost:8080/"
    },
    "id": "96uEXO-WNvkS",
    "outputId": "82350ef1-0cac-4bb6-e317-27acfa3ae8a5"
   },
   "outputs": [
    {
     "name": "stderr",
     "output_type": "stream",
     "text": [
      "/usr4/ba820/jsale017/.local/lib/python3.10/site-packages/torch/cuda/__init__.py:141: UserWarning: CUDA initialization: The NVIDIA driver on your system is too old (found version 11040). Please update your GPU driver by downloading and installing a new version from the URL: http://www.nvidia.com/Download/index.aspx Alternatively, go to: https://pytorch.org to install a PyTorch version that has been compiled with your version of the CUDA driver. (Triggered internally at ../c10/cuda/CUDAFunctions.cpp:108.)\n",
      "  return torch._C._cuda_getDeviceCount() > 0\n"
     ]
    },
    {
     "data": {
      "text/plain": [
       "False"
      ]
     },
     "execution_count": 2,
     "metadata": {},
     "output_type": "execute_result"
    }
   ],
   "source": [
    "enable_wandb = True\n",
    "use_gpu = True\n",
    "gpu_available = torch.cuda.is_available()\n",
    "gpu_available"
   ]
  },
  {
   "cell_type": "code",
   "execution_count": 3,
   "metadata": {
    "id": "xcvmiWVbdlUg"
   },
   "outputs": [],
   "source": [
    "!pip install wandb -qU"
   ]
  },
  {
   "cell_type": "code",
   "execution_count": 4,
   "metadata": {},
   "outputs": [],
   "source": [
    "import wandb"
   ]
  },
  {
   "cell_type": "code",
   "execution_count": null,
   "metadata": {},
   "outputs": [],
   "source": [
    "wandb.login()"
   ]
  },
  {
   "cell_type": "code",
   "execution_count": 6,
   "metadata": {
    "id": "TjZBv1zw2_xN"
   },
   "outputs": [],
   "source": [
    "#Loading images - from Datacamp CNN course (cloud example)\n",
    "from torchvision.datasets import ImageFolder\n",
    "from torchvision import transforms\n",
    "\n",
    "train_transforms = transforms.Compose([\n",
    "    transforms.ToTensor(),\n",
    "    transforms.Resize((56,56))\n",
    "])\n",
    "\n",
    "dataset_train = ImageFolder(\n",
    "    'Train',\n",
    "    transform = train_transforms\n",
    ")"
   ]
  },
  {
   "cell_type": "code",
   "execution_count": 7,
   "metadata": {
    "id": "5Mr9nTgLuwBa"
   },
   "outputs": [],
   "source": [
    "train_dataset, val_dataset = random_split(dataset_train, [0.8, 0.2])"
   ]
  },
  {
   "cell_type": "markdown",
   "metadata": {
    "id": "1Nkdw0AbTfQ9"
   },
   "source": [
    "### Visualizing Data"
   ]
  },
  {
   "cell_type": "code",
   "execution_count": 11,
   "metadata": {
    "colab": {
     "base_uri": "https://localhost:8080/",
     "height": 483
    },
    "id": "FTvmTS6RQB5T",
    "outputId": "a8839b4e-c49e-4d00-956f-8b107e0ab422"
   },
   "outputs": [
    {
     "name": "stdout",
     "output_type": "stream",
     "text": [
      "torch.Size([1, 3, 56, 56])\n",
      "Label: tensor([32])\n",
      "tensor([32])\n"
     ]
    },
    {
     "data": {
      "image/png": "[encoded data removed]",
      "text/plain": [
       "<Figure size 640x480 with 1 Axes>"
      ]
     },
     "metadata": {},
     "output_type": "display_data"
    }
   ],
   "source": [
    "from torch.utils.data import DataLoader\n",
    "\n",
    "#Trying to display images\n",
    "dataloader_train = DataLoader(\n",
    "    dataset_train,\n",
    "    shuffle=True,\n",
    "    batch_size=1,\n",
    ")\n",
    "\n",
    "image, label = next(iter(dataloader_train))\n",
    "print(image.shape)\n",
    "print('Label:',label)\n",
    "print(label)\n",
    "\n",
    "image = image.squeeze().permute(1,2,0)\n",
    "\n",
    "plt.imshow(image)\n",
    "plt.show()"
   ]
  },
  {
   "cell_type": "markdown",
   "metadata": {},
   "source": [
    "### Dealing With Class Imbalance"
   ]
  },
  {
   "cell_type": "code",
   "execution_count": 34,
   "metadata": {},
   "outputs": [
    {
     "name": "stdout",
     "output_type": "stream",
     "text": [
      "Class Weights:\n",
      "Class 0: 93.3786\n",
      "Class 1: 8.8331\n",
      "Class 10: 9.7560\n",
      "Class 11: 14.8557\n",
      "Class 12: 9.3379\n",
      "Class 13: 9.0785\n",
      "Class 14: 25.1404\n",
      "Class 15: 31.1262\n",
      "Class 16: 46.6893\n",
      "Class 17: 17.6662\n",
      "Class 18: 16.3412\n",
      "Class 19: 93.3786\n",
      "Class 2: 8.7153\n",
      "Class 20: 54.4708\n",
      "Class 21: 59.4227\n",
      "Class 22: 50.2808\n",
      "Class 23: 38.4500\n",
      "Class 24: 72.6278\n",
      "Class 25: 13.0730\n",
      "Class 26: 32.6825\n",
      "Class 27: 81.7062\n",
      "Class 28: 36.3139\n",
      "Class 29: 72.6278\n",
      "Class 3: 13.9074\n",
      "Class 30: 43.5767\n",
      "Class 31: 25.1404\n",
      "Class 32: 81.7062\n",
      "Class 33: 28.4608\n",
      "Class 34: 46.6893\n",
      "Class 35: 16.3412\n",
      "Class 36: 50.2808\n",
      "Class 37: 93.3786\n",
      "Class 38: 9.4732\n",
      "Class 39: 65.3650\n",
      "Class 4: 9.9038\n",
      "Class 40: 54.4708\n",
      "Class 41: 81.7062\n",
      "Class 42: 81.7062\n",
      "Class 5: 10.5427\n",
      "Class 6: 46.6893\n",
      "Class 7: 13.6177\n",
      "Class 8: 13.9074\n",
      "Class 9: 13.3398\n"
     ]
    }
   ],
   "source": [
    "num_samples = 39219\n",
    "num_images_per_class = {\n",
    "    0: 210, 1: 2220, 10: 2010, 11: 1320, 12: 2100, 13: 2160, 14: 780, 15: 630,\n",
    "    16: 420, 17: 1110, 18: 1200, 19: 210, 2: 2250, 20: 360, 21: 330, 22: 390,\n",
    "    23: 510, 24: 270, 25: 1500, 26: 600, 27: 240, 28: 540, 29: 270, 3: 1410,\n",
    "    30: 450, 31: 780, 32: 240, 33: 689, 34: 420, 35: 1200, 36: 390, 37: 210,\n",
    "    38: 2070, 39: 300, 4: 1980, 40: 360, 41: 240, 42: 240, 5: 1860, 6: 420,\n",
    "    7: 1440, 8: 1410, 9: 1470\n",
    "}\n",
    "\n",
    "class_weights = {}\n",
    "for class_id, num_images in num_images_per_class.items():\n",
    "    weight_for_class = num_samples / (num_images * 2)\n",
    "    class_weights[class_id] = weight_for_class\n",
    "\n",
    "print(\"Class Weights:\")\n",
    "for class_id, weight in class_weights.items():\n",
    "    print(f\"Class {class_id}: {weight:.4f}\")"
   ]
  },
  {
   "cell_type": "code",
   "execution_count": 35,
   "metadata": {},
   "outputs": [],
   "source": [
    "class_weights = torch.tensor([\n",
    "    93.3786, 8.8331, 9.7560, 14.8557, 9.3379, 9.0785, 25.1404, 31.1262, 46.6893, 17.6662,\n",
    "    16.3412, 93.3786, 8.7153, 54.4708, 59.4227, 50.2808, 38.4500, 72.6278, 13.0730, 32.6825,\n",
    "    81.7062, 36.3139, 72.6278, 13.9074, 43.5767, 25.1404, 81.7062, 28.4608, 46.6893, 16.3412,\n",
    "    50.2808, 93.3786, 9.4732, 65.3650, 9.9038, 54.4708, 81.7062, 81.7062, 10.5427, 46.6893,\n",
    "    13.6177, 13.9074, 13.3398\n",
    "])\n",
    "\n",
    "criterion = nn.BCEWithLogitsLoss(weight= class_weights)"
   ]
  },
  {
   "cell_type": "markdown",
   "metadata": {
    "id": "4tuPa_BlLd52"
   },
   "source": [
    "## 1. Initial Model Creation"
   ]
  },
  {
   "cell_type": "markdown",
   "metadata": {
    "id": "E3GhuEKgdCoB"
   },
   "source": [
    "## Hyperparameters"
   ]
  },
  {
   "cell_type": "code",
   "execution_count": 60,
   "metadata": {
    "id": "9cpAerwGIiVu"
   },
   "outputs": [],
   "source": [
    "# Hyperparameters\n",
    "\n",
    "configs = {\n",
    "    \"experiment_name\": \"first_experiment_CNN\",\n",
    "    \"data_augmentation\":True,\n",
    "\n",
    "    # Data\n",
    "    \"img_dimensions\" : (3,56,56),\n",
    "    \"batch_size\" : 350,\n",
    "    \"num_classes\" : 43,\n",
    "\n",
    "    # CNN\n",
    "    \"filter_sizes\" : [4, 16, 32, 64],\n",
    "    \"kernel_size\" : 5,\n",
    "    \"stride\": 2,\n",
    "    \"padding\":2,\n",
    "\n",
    "    #Optimzation\n",
    "    \"learning_rate\" : 0.0001,\n",
    "    \"epochs\" : 25,\n",
    "    \"weight_decay\" : 0.00001,\n",
    "    \"epochs\" : 35\n",
    "}\n"
   ]
  },
  {
   "cell_type": "code",
   "execution_count": 61,
   "metadata": {
    "id": "d1kpFjNmuuGQ"
   },
   "outputs": [],
   "source": [
    "train_loader = DataLoader(dataset=train_dataset, batch_size = configs['batch_size'], shuffle=True)\n",
    "val_loader = DataLoader(dataset=val_dataset, batch_size = configs['batch_size'], shuffle=False)"
   ]
  },
  {
   "cell_type": "markdown",
   "metadata": {
    "id": "PPPLsQP-eri7"
   },
   "source": [
    "## Data Augmentation\n"
   ]
  },
  {
   "cell_type": "code",
   "execution_count": 62,
   "metadata": {
    "id": "xsDrW0b3JfNj"
   },
   "outputs": [],
   "source": [
    "if configs[\"data_augmentation\"]:\n",
    "  transform = transforms.Compose([\n",
    "      transforms.RandomHorizontalFlip(0.5),\n",
    "      transforms.Resize(56),\n",
    "      transforms.RandomRotation(45),\n",
    "      transforms.ToTensor(),\n",
    "      transforms.Normalize(mean=[0.5, 0.5, 0.5], std=[0.5, 0.5, 0.5])\n",
    "    ])\n",
    "else:\n",
    "  transform = transforms.Compose([\n",
    "      transforms.Resize(56),\n",
    "      transforms.ToTensor(),\n",
    "      transforms.Normalize(mean=[0.5, 0.5, 0.5], std=[0.5, 0.5, 0.5])\n",
    "    ])"
   ]
  },
  {
   "cell_type": "markdown",
   "metadata": {
    "id": "Lhry9DmjA2Jj"
   },
   "source": [
    "### A. Pytorch Sequential MLP\n"
   ]
  },
  {
   "cell_type": "markdown",
   "metadata": {
    "id": "zMc_SdyFrsIu"
   },
   "source": [
    "#### Sequential Model"
   ]
  },
  {
   "cell_type": "code",
   "execution_count": 15,
   "metadata": {
    "id": "zLPfJJpqq0Ss"
   },
   "outputs": [],
   "source": [
    "import torch\n",
    "import torch.nn as nn\n",
    "import torch.nn.functional as F"
   ]
  },
  {
   "cell_type": "code",
   "execution_count": null,
   "metadata": {
    "colab": {
     "base_uri": "https://localhost:8080/",
     "height": 119
    },
    "id": "vptqybDBTW6T",
    "outputId": "015dea66-90e7-47f2-c6fb-7e15d6cd10dc"
   },
   "outputs": [],
   "source": [
    "if enable_wandb:\n",
    "  wandb.init(\n",
    "    project=\"Deciphering Traffic Signs\",\n",
    "    name=configs[\"experiment_name\"],\n",
    "    config=configs)"
   ]
  },
  {
   "cell_type": "code",
   "execution_count": null,
   "metadata": {
    "colab": {
     "base_uri": "https://localhost:8080/"
    },
    "id": "d0V4IvkHjPLP",
    "outputId": "a931da79-854b-4fd1-8672-bb6d561bb12f"
   },
   "outputs": [],
   "source": [
    "!pip install -U torchmetrics\n",
    "import torchmetrics"
   ]
  },
  {
   "cell_type": "code",
   "execution_count": 18,
   "metadata": {
    "id": "CE1TqqbMmY0U"
   },
   "outputs": [],
   "source": [
    "class model(nn.Module):\n",
    "    def __init__(self, input_size, num_classes):\n",
    "        super(model, self).__init__()\n",
    "        self.fc1 = nn.Linear(input_size, 250)\n",
    "        self.fc2 = nn.Linear(250, 128)\n",
    "        self.fc3 = nn.Linear(128, num_classes)\n",
    "\n",
    "    def forward(self, x):\n",
    "        x = x.view(x.size(0), -1)\n",
    "        x = F.relu(self.fc1(x))\n",
    "        x = F.relu(self.fc2(x))\n",
    "        x = F.softmax(self.fc3(x), dim=1)\n",
    "        return x"
   ]
  },
  {
   "cell_type": "code",
   "execution_count": 19,
   "metadata": {
    "id": "654NCINasXWO"
   },
   "outputs": [],
   "source": [
    "input_size = configs[\"img_dimensions\"][0] * configs[\"img_dimensions\"][1] * configs[\"img_dimensions\"][2]\n",
    "num_classes = configs[\"num_classes\"]"
   ]
  },
  {
   "cell_type": "code",
   "execution_count": 20,
   "metadata": {
    "id": "-eTYZFbIn7B5"
   },
   "outputs": [],
   "source": [
    "from torchinfo import summary"
   ]
  },
  {
   "cell_type": "code",
   "execution_count": 21,
   "metadata": {
    "colab": {
     "base_uri": "https://localhost:8080/"
    },
    "id": "YMMOHh2Zn-Af",
    "outputId": "923fbb80-0a42-48b5-e720-1bc312545f9a"
   },
   "outputs": [
    {
     "data": {
      "text/plain": [
       "=================================================================\n",
       "Layer (type:depth-idx)                   Param #\n",
       "=================================================================\n",
       "model                                    --\n",
       "├─Linear: 1-1                            2,352,250\n",
       "├─Linear: 1-2                            32,128\n",
       "├─Linear: 1-3                            5,547\n",
       "=================================================================\n",
       "Total params: 2,389,925\n",
       "Trainable params: 2,389,925\n",
       "Non-trainable params: 0\n",
       "================================================================="
      ]
     },
     "execution_count": 21,
     "metadata": {},
     "output_type": "execute_result"
    }
   ],
   "source": [
    "model = model(input_size = input_size, num_classes = num_classes)\n",
    "summary(model)"
   ]
  },
  {
   "cell_type": "code",
   "execution_count": 22,
   "metadata": {
    "id": "fVEJX-GeoDzF"
   },
   "outputs": [],
   "source": [
    "criterion = nn.CrossEntropyLoss()"
   ]
  },
  {
   "cell_type": "code",
   "execution_count": 23,
   "metadata": {
    "id": "wk7Go1aBoGpW"
   },
   "outputs": [],
   "source": [
    "optimizer = optim.Adam(model.parameters(), lr = configs['learning_rate'], weight_decay = configs['weight_decay'])"
   ]
  },
  {
   "cell_type": "markdown",
   "metadata": {
    "id": "pUj6Gb45oTSL"
   },
   "source": [
    "### Training"
   ]
  },
  {
   "cell_type": "code",
   "execution_count": 24,
   "metadata": {
    "id": "Mf8I53QwtAoX"
   },
   "outputs": [],
   "source": [
    "import torchmetrics"
   ]
  },
  {
   "cell_type": "code",
   "execution_count": 25,
   "metadata": {
    "id": "Lx8u9f5joSs-"
   },
   "outputs": [],
   "source": [
    "def get_accuracy(dataloader, model):\n",
    "    device = 'cuda' if torch.cuda.is_available() else 'cpu'\n",
    "    acc = torchmetrics.Accuracy(task=\"MULTICLASS\", num_classes=configs['num_classes']).to(device)\n",
    "\n",
    "    model.eval()\n",
    "    with torch.no_grad():\n",
    "        for images, labels in dataloader:\n",
    "            images = images.to(device)\n",
    "            labels = labels.to(device)\n",
    "                \n",
    "            outputs = model(images)\n",
    "            preds = torch.argmax(outputs, axis=1)\n",
    "            acc.update(preds, labels)\n",
    "\n",
    "    accuracy = acc.compute()\n",
    "    model.train()\n",
    "    return accuracy"
   ]
  },
  {
   "cell_type": "code",
   "execution_count": 26,
   "metadata": {
    "id": "QGjoXUIzof1E"
   },
   "outputs": [],
   "source": [
    "def get_loss(loader):\n",
    "    model.eval()\n",
    "    loss = 0\n",
    "    with torch.no_grad():\n",
    "        for i, (images, labels) in enumerate(loader):\n",
    "            if gpu_available and use_gpu:\n",
    "                images = images.cuda()\n",
    "                labels = labels.cuda()\n",
    "            outputs = model(images)\n",
    "            loss = loss + criterion(outputs, labels)\n",
    "    return loss / len(loader.dataset)"
   ]
  },
  {
   "cell_type": "code",
   "execution_count": 27,
   "metadata": {
    "id": "iG0mTxS-t8p8"
   },
   "outputs": [],
   "source": [
    "class EarlyStopper:\n",
    "    def __init__(self, patience=1):\n",
    "        self.patience = patience\n",
    "        self.counter = 0\n",
    "        self.min_validation_loss = float('inf')\n",
    "\n",
    "    def early_stop(self, validation_loss):\n",
    "        if validation_loss < self.min_validation_loss:\n",
    "            self.min_validation_loss = validation_loss\n",
    "            self.counter = 0\n",
    "            torch.save(model.state_dict(), \"./best_model.pt\")\n",
    "        elif validation_loss > self.min_validation_loss:\n",
    "            self.counter += 1\n",
    "            if self.counter >= self.patience:\n",
    "                return True\n",
    "        return False\n",
    "    \n",
    "early_stopper = EarlyStopper(patience=3)"
   ]
  },
  {
   "cell_type": "code",
   "execution_count": 28,
   "metadata": {
    "colab": {
     "base_uri": "https://localhost:8080/"
    },
    "id": "b1udopKNotV5",
    "outputId": "aaae0bae-7cd7-4b8d-ccf3-58ece5c51a2d"
   },
   "outputs": [
    {
     "name": "stdout",
     "output_type": "stream",
     "text": [
      "Epoch 1  batch 1 . Training Loss:  3.761314630508423\n",
      "Epoch [1/35], Train Accuracy: 0.1475, Validation Accuracy: 0.1505\n",
      "Epoch 2  batch 1 . Training Loss:  3.694185256958008\n",
      "Epoch [2/35], Train Accuracy: 0.2078, Validation Accuracy: 0.2160\n",
      "Epoch 3  batch 1 . Training Loss:  3.634922504425049\n",
      "Epoch [3/35], Train Accuracy: 0.2098, Validation Accuracy: 0.2172\n",
      "Epoch 4  batch 1 . Training Loss:  3.626262664794922\n",
      "Epoch [4/35], Train Accuracy: 0.2392, Validation Accuracy: 0.2455\n",
      "Epoch 5  batch 1 . Training Loss:  3.563722848892212\n",
      "Epoch [5/35], Train Accuracy: 0.2610, Validation Accuracy: 0.2691\n",
      "Epoch 6  batch 1 . Training Loss:  3.5766592025756836\n",
      "Epoch [6/35], Train Accuracy: 0.2653, Validation Accuracy: 0.2752\n",
      "Epoch 7  batch 1 . Training Loss:  3.540334939956665\n",
      "Epoch [7/35], Train Accuracy: 0.2673, Validation Accuracy: 0.2771\n",
      "Epoch 8  batch 1 . Training Loss:  3.540482997894287\n",
      "Epoch [8/35], Train Accuracy: 0.2753, Validation Accuracy: 0.2839\n",
      "Epoch 9  batch 1 . Training Loss:  3.5625996589660645\n",
      "Epoch [9/35], Train Accuracy: 0.2843, Validation Accuracy: 0.2923\n",
      "Epoch 10  batch 1 . Training Loss:  3.5114378929138184\n",
      "Epoch [10/35], Train Accuracy: 0.2962, Validation Accuracy: 0.3067\n",
      "Epoch 11  batch 1 . Training Loss:  3.503263473510742\n",
      "Epoch [11/35], Train Accuracy: 0.3068, Validation Accuracy: 0.3146\n",
      "Epoch 12  batch 1 . Training Loss:  3.531609535217285\n",
      "Epoch [12/35], Train Accuracy: 0.3133, Validation Accuracy: 0.3214\n",
      "Epoch 13  batch 1 . Training Loss:  3.479691743850708\n",
      "Epoch [13/35], Train Accuracy: 0.3140, Validation Accuracy: 0.3215\n",
      "Epoch 14  batch 1 . Training Loss:  3.4622771739959717\n",
      "Epoch [14/35], Train Accuracy: 0.3258, Validation Accuracy: 0.3341\n",
      "Epoch 15  batch 1 . Training Loss:  3.468007802963257\n",
      "Epoch [15/35], Train Accuracy: 0.3316, Validation Accuracy: 0.3398\n",
      "Epoch 16  batch 1 . Training Loss:  3.5298900604248047\n",
      "Epoch [16/35], Train Accuracy: 0.3333, Validation Accuracy: 0.3408\n",
      "Epoch 17  batch 1 . Training Loss:  3.4715189933776855\n",
      "Epoch [17/35], Train Accuracy: 0.3364, Validation Accuracy: 0.3442\n",
      "Epoch 18  batch 1 . Training Loss:  3.4850990772247314\n",
      "Epoch [18/35], Train Accuracy: 0.3374, Validation Accuracy: 0.3437\n",
      "Epoch 19  batch 1 . Training Loss:  3.436643123626709\n",
      "Epoch [19/35], Train Accuracy: 0.3396, Validation Accuracy: 0.3464\n",
      "Epoch 20  batch 1 . Training Loss:  3.4536960124969482\n",
      "Epoch [20/35], Train Accuracy: 0.3607, Validation Accuracy: 0.3658\n",
      "Epoch 21  batch 1 . Training Loss:  3.453040599822998\n",
      "Epoch [21/35], Train Accuracy: 0.3630, Validation Accuracy: 0.3668\n",
      "Epoch 22  batch 1 . Training Loss:  3.5024166107177734\n",
      "Epoch [22/35], Train Accuracy: 0.3635, Validation Accuracy: 0.3670\n",
      "Epoch 23  batch 1 . Training Loss:  3.4834277629852295\n",
      "Epoch [23/35], Train Accuracy: 0.3698, Validation Accuracy: 0.3767\n",
      "Epoch 24  batch 1 . Training Loss:  3.437631130218506\n",
      "Epoch [24/35], Train Accuracy: 0.3754, Validation Accuracy: 0.3825\n",
      "Epoch 25  batch 1 . Training Loss:  3.406703472137451\n",
      "Epoch [25/35], Train Accuracy: 0.3786, Validation Accuracy: 0.3843\n",
      "Epoch 26  batch 1 . Training Loss:  3.4923202991485596\n",
      "Epoch [26/35], Train Accuracy: 0.3791, Validation Accuracy: 0.3826\n",
      "Epoch 27  batch 1 . Training Loss:  3.422691822052002\n",
      "Epoch [27/35], Train Accuracy: 0.3820, Validation Accuracy: 0.3871\n",
      "Epoch 28  batch 1 . Training Loss:  3.420776128768921\n",
      "Epoch [28/35], Train Accuracy: 0.3841, Validation Accuracy: 0.3881\n",
      "Epoch 29  batch 1 . Training Loss:  3.4788243770599365\n",
      "Epoch [29/35], Train Accuracy: 0.3849, Validation Accuracy: 0.3887\n",
      "Epoch 30  batch 1 . Training Loss:  3.4877243041992188\n",
      "Epoch [30/35], Train Accuracy: 0.3829, Validation Accuracy: 0.3855\n",
      "Epoch 31  batch 1 . Training Loss:  3.4195632934570312\n",
      "Epoch [31/35], Train Accuracy: 0.3867, Validation Accuracy: 0.3900\n",
      "Epoch 32  batch 1 . Training Loss:  3.395792007446289\n",
      "Epoch [32/35], Train Accuracy: 0.3869, Validation Accuracy: 0.3896\n",
      "Epoch 33  batch 1 . Training Loss:  3.4364707469940186\n",
      "Epoch [33/35], Train Accuracy: 0.3839, Validation Accuracy: 0.3841\n",
      "Epoch 34  batch 1 . Training Loss:  3.416938543319702\n",
      "Epoch [34/35], Train Accuracy: 0.3885, Validation Accuracy: 0.3934\n",
      "Epoch 35  batch 1 . Training Loss:  3.4219088554382324\n",
      "Epoch [35/35], Train Accuracy: 0.3890, Validation Accuracy: 0.3919\n"
     ]
    }
   ],
   "source": [
    "# Training loop\n",
    "for epoch in range(configs['epochs']):\n",
    "    for i, (images, labels) in enumerate(train_loader):\n",
    "        optimizer.zero_grad()\n",
    "\n",
    "        if gpu_available and use_gpu:\n",
    "            images = images.cuda()\n",
    "            labels = labels.cuda()\n",
    "            model = model.cuda()\n",
    "        outputs = model(images)\n",
    "        loss = criterion(outputs, labels)\n",
    "        loss.backward()\n",
    "        optimizer.step()\n",
    "\n",
    "        if i % 100 == 0:\n",
    "            print(\"Epoch\", epoch + 1, \" batch\", i + 1, \". Training Loss: \", loss.item())\n",
    "            if enable_wandb:\n",
    "                wandb.log({\"loss\": loss})\n",
    "\n",
    "    # Calculate training and validation accuracy\n",
    "    train_acc = get_accuracy(train_loader, model)\n",
    "    val_acc = get_accuracy(val_loader, model)\n",
    "\n",
    "    print(f'Epoch [{epoch + 1}/{configs[\"epochs\"]}], Train Accuracy: {train_acc.item():.4f}, Validation Accuracy: {val_acc.item():.4f}')\n",
    "\n",
    "    if enable_wandb:\n",
    "        wandb.log({\"epoch\": epoch + 1, \"train_accuracy\": train_acc.item(), \"val_accuracy\": val_acc.item()})\n",
    "\n",
    "    # Calculate validation loss\n",
    "    validation_loss = get_loss(val_loader)\n",
    "\n",
    "    # Check for early stopping\n",
    "    if early_stopper.early_stop(validation_loss):\n",
    "        print(\"Validation loss hasn't dropped. Early stopping!\")\n",
    "        break"
   ]
  },
  {
   "cell_type": "code",
   "execution_count": 30,
   "metadata": {},
   "outputs": [
    {
     "data": {
      "application/vnd.jupyter.widget-view+json": {
       "model_id": "cc3f91ab1a0c445e9855a9fb2c1cc42d",
       "version_major": 2,
       "version_minor": 0
      },
      "text/plain": [
       "VBox(children=(Label(value='0.026 MB of 0.026 MB uploaded\\r'), FloatProgress(value=1.0, max=1.0)))"
      ]
     },
     "metadata": {},
     "output_type": "display_data"
    },
    {
     "data": {
      "text/html": [
       "<style>\n",
       "    table.wandb td:nth-child(1) { padding: 0 10px; text-align: left ; width: auto;} td:nth-child(2) {text-align: left ; width: 100%}\n",
       "    .wandb-row { display: flex; flex-direction: row; flex-wrap: wrap; justify-content: flex-start; width: 100% }\n",
       "    .wandb-col { display: flex; flex-direction: column; flex-basis: 100%; flex: 1; padding: 10px; }\n",
       "    </style>\n",
       "<div class=\"wandb-row\"><div class=\"wandb-col\"><h3>Run history:</h3><br/><table class=\"wandb\"><tr><td>epoch</td><td>▁▁▁▂▂▂▂▂▃▃▃▃▃▄▄▄▄▅▅▅▅▅▆▆▆▆▆▇▇▇▇▇███</td></tr><tr><td>loss</td><td>█▇▆▅▄▄▄▄▄▃▃▄▃▂▂▄▂▃▂▂▂▃▃▂▁▃▂▁▃▃▁▁▂▁▂</td></tr><tr><td>train_accuracy</td><td>▁▃▃▄▄▄▄▅▅▅▆▆▆▆▆▆▆▇▇▇▇▇▇████████████</td></tr><tr><td>val_accuracy</td><td>▁▃▃▄▄▅▅▅▅▆▆▆▆▆▆▆▇▇▇▇▇▇█████████████</td></tr></table><br/></div><div class=\"wandb-col\"><h3>Run summary:</h3><br/><table class=\"wandb\"><tr><td>epoch</td><td>35</td></tr><tr><td>loss</td><td>3.42191</td></tr><tr><td>train_accuracy</td><td>0.38903</td></tr><tr><td>val_accuracy</td><td>0.39191</td></tr></table><br/></div></div>"
      ],
      "text/plain": [
       "<IPython.core.display.HTML object>"
      ]
     },
     "metadata": {},
     "output_type": "display_data"
    },
    {
     "data": {
      "text/html": [
       " View run <strong style=\"color:#cdcd00\">first_experiment_MLP</strong> at: <a href='https://wandb.ai/josesalerno/Deciphering%20Traffic%20Signs%20/runs/gxs8ukct' target=\"_blank\">https://wandb.ai/josesalerno/Deciphering%20Traffic%20Signs%20/runs/gxs8ukct</a><br/> View project at: <a href='https://wandb.ai/josesalerno/Deciphering%20Traffic%20Signs%20' target=\"_blank\">https://wandb.ai/josesalerno/Deciphering%20Traffic%20Signs%20</a><br/>Synced 5 W&B file(s), 0 media file(s), 0 artifact file(s) and 0 other file(s)"
      ],
      "text/plain": [
       "<IPython.core.display.HTML object>"
      ]
     },
     "metadata": {},
     "output_type": "display_data"
    },
    {
     "data": {
      "text/html": [
       "Find logs at: <code>./wandb/run-20240417_072855-gxs8ukct/logs</code>"
      ],
      "text/plain": [
       "<IPython.core.display.HTML object>"
      ]
     },
     "metadata": {},
     "output_type": "display_data"
    }
   ],
   "source": [
    "if enable_wandb:\n",
    "  wandb.finish()"
   ]
  },
  {
   "cell_type": "markdown",
   "metadata": {
    "id": "P56zhYo9d17j"
   },
   "source": [
    "### B. Pytoch CNN Model"
   ]
  },
  {
   "cell_type": "code",
   "execution_count": null,
   "metadata": {},
   "outputs": [],
   "source": [
    "pip install --upgrade wandb"
   ]
  },
  {
   "cell_type": "code",
   "execution_count": null,
   "metadata": {},
   "outputs": [],
   "source": [
    "wandb.login()"
   ]
  },
  {
   "cell_type": "code",
   "execution_count": 38,
   "metadata": {},
   "outputs": [
    {
     "data": {
      "text/html": [
       "Finishing last run (ID:ezyjp2jq) before initializing another..."
      ],
      "text/plain": [
       "<IPython.core.display.HTML object>"
      ]
     },
     "metadata": {},
     "output_type": "display_data"
    },
    {
     "data": {
      "application/vnd.jupyter.widget-view+json": {
       "model_id": "0c57212f40f34ed38396d4f21c1c733d",
       "version_major": 2,
       "version_minor": 0
      },
      "text/plain": [
       "VBox(children=(Label(value='0.003 MB of 0.003 MB uploaded\\r'), FloatProgress(value=1.0, max=1.0)))"
      ]
     },
     "metadata": {},
     "output_type": "display_data"
    },
    {
     "data": {
      "text/html": [
       "<style>\n",
       "    table.wandb td:nth-child(1) { padding: 0 10px; text-align: left ; width: auto;} td:nth-child(2) {text-align: left ; width: 100%}\n",
       "    .wandb-row { display: flex; flex-direction: row; flex-wrap: wrap; justify-content: flex-start; width: 100% }\n",
       "    .wandb-col { display: flex; flex-direction: column; flex-basis: 100%; flex: 1; padding: 10px; }\n",
       "    </style>\n",
       "<div class=\"wandb-row\"><div class=\"wandb-col\"><h3>Run history:</h3><br/><table class=\"wandb\"><tr><td>epoch</td><td>▁▁▂▂▂▂▃▃▃▃▄▄▄▄▅▅▅▅▆▆▆▆▇▇▇▇██</td></tr><tr><td>loss</td><td>█▇▆▅▄▃▃▄▂▃▂▂▂▂▂▂▂▂▂▂▂▁▂▁▂▃▁▁▂▁</td></tr><tr><td>train_accuracy</td><td>▁▂▃▄▄▄▅▅▅▆▆▆▆▇▇▇▇▇▇█▇█▇█████</td></tr><tr><td>val_accuracy</td><td>▁▂▃▄▄▄▅▅▅▆▅▆▆▇▇▇▇▇▇█▇█▇█████</td></tr></table><br/></div><div class=\"wandb-col\"><h3>Run summary:</h3><br/><table class=\"wandb\"><tr><td>epoch</td><td>28</td></tr><tr><td>loss</td><td>3.43662</td></tr><tr><td>train_accuracy</td><td>0.35543</td></tr><tr><td>val_accuracy</td><td>0.35901</td></tr></table><br/></div></div>"
      ],
      "text/plain": [
       "<IPython.core.display.HTML object>"
      ]
     },
     "metadata": {},
     "output_type": "display_data"
    },
    {
     "data": {
      "text/html": [
       " View run <strong style=\"color:#cdcd00\">First_CNN_Model</strong> at: <a href='https://wandb.ai/josesalerno/Deciphering%20Traffic%20Signs%20/runs/ezyjp2jq' target=\"_blank\">https://wandb.ai/josesalerno/Deciphering%20Traffic%20Signs%20/runs/ezyjp2jq</a><br/> View project at: <a href='https://wandb.ai/josesalerno/Deciphering%20Traffic%20Signs%20' target=\"_blank\">https://wandb.ai/josesalerno/Deciphering%20Traffic%20Signs%20</a><br/>Synced 5 W&B file(s), 0 media file(s), 0 artifact file(s) and 0 other file(s)"
      ],
      "text/plain": [
       "<IPython.core.display.HTML object>"
      ]
     },
     "metadata": {},
     "output_type": "display_data"
    },
    {
     "data": {
      "text/html": [
       "Find logs at: <code>./wandb/run-20240417_111039-ezyjp2jq/logs</code>"
      ],
      "text/plain": [
       "<IPython.core.display.HTML object>"
      ]
     },
     "metadata": {},
     "output_type": "display_data"
    },
    {
     "data": {
      "text/html": [
       "Successfully finished last run (ID:ezyjp2jq). Initializing new run:<br/>"
      ],
      "text/plain": [
       "<IPython.core.display.HTML object>"
      ]
     },
     "metadata": {},
     "output_type": "display_data"
    },
    {
     "data": {
      "application/vnd.jupyter.widget-view+json": {
       "model_id": "55652575dc5b4b07a75ee50da6e4caf6",
       "version_major": 2,
       "version_minor": 0
      },
      "text/plain": [
       "VBox(children=(Label(value='Waiting for wandb.init()...\\r'), FloatProgress(value=0.011112495655349145, max=1.0…"
      ]
     },
     "metadata": {},
     "output_type": "display_data"
    },
    {
     "data": {
      "text/html": [
       "Tracking run with wandb version 0.16.6"
      ],
      "text/plain": [
       "<IPython.core.display.HTML object>"
      ]
     },
     "metadata": {},
     "output_type": "display_data"
    },
    {
     "data": {
      "text/html": [
       "Run data is saved locally in <code>/projectnb/ba865/students/jsale017/wandb/run-20240417_114659-8dwb4bfr</code>"
      ],
      "text/plain": [
       "<IPython.core.display.HTML object>"
      ]
     },
     "metadata": {},
     "output_type": "display_data"
    },
    {
     "data": {
      "text/html": [
       "Syncing run <strong><a href='https://wandb.ai/josesalerno/Deciphering%20Traffic%20Signs%20/runs/8dwb4bfr' target=\"_blank\">First_CNN_Model</a></strong> to <a href='https://wandb.ai/josesalerno/Deciphering%20Traffic%20Signs%20' target=\"_blank\">Weights & Biases</a> (<a href='https://wandb.me/run' target=\"_blank\">docs</a>)<br/>"
      ],
      "text/plain": [
       "<IPython.core.display.HTML object>"
      ]
     },
     "metadata": {},
     "output_type": "display_data"
    },
    {
     "data": {
      "text/html": [
       " View project at <a href='https://wandb.ai/josesalerno/Deciphering%20Traffic%20Signs%20' target=\"_blank\">https://wandb.ai/josesalerno/Deciphering%20Traffic%20Signs%20</a>"
      ],
      "text/plain": [
       "<IPython.core.display.HTML object>"
      ]
     },
     "metadata": {},
     "output_type": "display_data"
    },
    {
     "data": {
      "text/html": [
       " View run at <a href='https://wandb.ai/josesalerno/Deciphering%20Traffic%20Signs%20/runs/8dwb4bfr' target=\"_blank\">https://wandb.ai/josesalerno/Deciphering%20Traffic%20Signs%20/runs/8dwb4bfr</a>"
      ],
      "text/plain": [
       "<IPython.core.display.HTML object>"
      ]
     },
     "metadata": {},
     "output_type": "display_data"
    },
    {
     "data": {
      "text/html": [
       "<button onClick=\"this.nextSibling.style.display='block';this.style.display='none';\">Display W&B run</button><iframe src='https://wandb.ai/josesalerno/Deciphering%20Traffic%20Signs%20/runs/8dwb4bfr?jupyter=true' style='border:none;width:100%;height:420px;display:none;'></iframe>"
      ],
      "text/plain": [
       "<wandb.sdk.wandb_run.Run at 0x14644130f5b0>"
      ]
     },
     "execution_count": 38,
     "metadata": {},
     "output_type": "execute_result"
    }
   ],
   "source": [
    "wandb.init(\n",
    "    project=\"Deciphering Traffic Signs\",\n",
    "    name=\"First_CNN_Model\",\n",
    "    config=configs\n",
    ")"
   ]
  },
  {
   "cell_type": "code",
   "execution_count": 74,
   "metadata": {
    "id": "fqYvgbI5IYMh"
   },
   "outputs": [],
   "source": [
    "class CNN(nn.Module):\n",
    "    def __init__(self, img_dimensions, num_classes, filter_sizes, kernel_size, stride, padding):\n",
    "        super(CNN, self).__init__()\n",
    "        self.conv1 = nn.Conv2d(img_dimensions[0], filter_sizes[0], kernel_size, stride, padding)\n",
    "        self.relu = nn.ReLU()\n",
    "        self.conv1 = nn.Conv2d(img_dimensions[0], filter_sizes[0], kernel_size, stride, padding)\n",
    "        self.conv2 = nn.Conv2d(filter_sizes[0], filter_sizes[1], kernel_size, stride, padding)\n",
    "        self.conv3 = nn.Conv2d(filter_sizes[1], filter_sizes[2], kernel_size, stride, padding)\n",
    "        self.conv4 = nn.Conv2d(filter_sizes[2], filter_sizes[3], kernel_size, stride, padding)\n",
    "        self.pool = nn.MaxPool2d(2, 2, padding=1)\n",
    "        self.batchnorm1 = nn.BatchNorm2d(filter_sizes[0])\n",
    "        self.batchnorm2 = nn.BatchNorm2d(filter_sizes[1])\n",
    "        self.batchnorm3 = nn.BatchNorm2d(filter_sizes[2])\n",
    "        self.batchnorm4 = nn.BatchNorm2d(filter_sizes[3])\n",
    "        self.dropout = nn.Dropout(0.5)\n",
    "        self.global_avg_pool = nn.AdaptiveAvgPool2d((1, 1))\n",
    "        self.fc = nn.Linear(filter_sizes[3], num_classes)\n",
    "        self.softmax = nn.Softmax(dim=1)\n",
    "\n",
    "    def forward(self, x):\n",
    "        out = self.conv1(x)\n",
    "        out = self.relu(out)\n",
    "        out = self.batchnorm1(out)\n",
    "        out = self.pool(out)\n",
    "        \n",
    "        out = self.conv2(out)\n",
    "        out = self.relu(out)\n",
    "        out = self.batchnorm2(out)\n",
    "        out = self.pool(out)\n",
    "        \n",
    "        out = self.conv3(out)\n",
    "        out = self.relu(out)\n",
    "        out = self.batchnorm3(out)\n",
    "        out = self.pool(out)\n",
    "        \n",
    "        out = self.conv4(out)\n",
    "        out = self.relu(out)\n",
    "        out = self.batchnorm4(out)\n",
    "        out = self.pool(out)\n",
    "        \n",
    "        out = self.global_avg_pool(out)\n",
    "        out = self.dropout(out)\n",
    "        out = out.view(out.size(0), -1)\n",
    "        out = self.fc(out)\n",
    "        out = self.softmax(out)\n",
    "        return out"
   ]
  },
  {
   "cell_type": "code",
   "execution_count": 75,
   "metadata": {},
   "outputs": [],
   "source": [
    "from torchinfo import summary"
   ]
  },
  {
   "cell_type": "code",
   "execution_count": 76,
   "metadata": {
    "id": "vazqNE3rycZ3"
   },
   "outputs": [
    {
     "data": {
      "text/plain": [
       "=================================================================\n",
       "Layer (type:depth-idx)                   Param #\n",
       "=================================================================\n",
       "CNN                                      --\n",
       "├─Conv2d: 1-1                            304\n",
       "├─ReLU: 1-2                              --\n",
       "├─Conv2d: 1-3                            1,616\n",
       "├─Conv2d: 1-4                            12,832\n",
       "├─Conv2d: 1-5                            51,264\n",
       "├─MaxPool2d: 1-6                         --\n",
       "├─BatchNorm2d: 1-7                       8\n",
       "├─BatchNorm2d: 1-8                       32\n",
       "├─BatchNorm2d: 1-9                       64\n",
       "├─BatchNorm2d: 1-10                      128\n",
       "├─Dropout: 1-11                          --\n",
       "├─AdaptiveAvgPool2d: 1-12                --\n",
       "├─Linear: 1-13                           2,795\n",
       "├─Softmax: 1-14                          --\n",
       "=================================================================\n",
       "Total params: 69,043\n",
       "Trainable params: 69,043\n",
       "Non-trainable params: 0\n",
       "================================================================="
      ]
     },
     "execution_count": 76,
     "metadata": {},
     "output_type": "execute_result"
    }
   ],
   "source": [
    "model_CNN = CNN(configs['img_dimensions'], configs['num_classes'], configs['filter_sizes'], configs['kernel_size'], configs['stride'], configs['padding'])\n",
    "summary(model_CNN)"
   ]
  },
  {
   "cell_type": "code",
   "execution_count": 77,
   "metadata": {},
   "outputs": [],
   "source": [
    "model_CNN = model_CNN.cpu()"
   ]
  },
  {
   "cell_type": "code",
   "execution_count": 78,
   "metadata": {
    "id": "q4pgp724yvdl"
   },
   "outputs": [],
   "source": [
    "criterion = nn.CrossEntropyLoss(weight = class_weights)"
   ]
  },
  {
   "cell_type": "code",
   "execution_count": 79,
   "metadata": {
    "id": "cDACIJs2yv8S"
   },
   "outputs": [],
   "source": [
    "optimizer = optim.Adam(model_CNN.parameters(), lr = configs['learning_rate'], weight_decay = configs['weight_decay'])"
   ]
  },
  {
   "cell_type": "code",
   "execution_count": null,
   "metadata": {},
   "outputs": [],
   "source": [
    "!pip install -U torchmetrics\n",
    "import torchmetrics"
   ]
  },
  {
   "cell_type": "code",
   "execution_count": 81,
   "metadata": {
    "id": "JMgMAZucy0mv"
   },
   "outputs": [],
   "source": [
    "def get_accuracy(dataloader, model):\n",
    "    device = 'cuda' if torch.cuda.is_available() else 'cpu'\n",
    "    acc = torchmetrics.Accuracy(task=\"MULTICLASS\", num_classes=configs['num_classes']).to(device)\n",
    "\n",
    "    model_CNN.eval()\n",
    "    with torch.no_grad():\n",
    "        for images, labels in dataloader:\n",
    "            images = images.to(device)\n",
    "            labels = labels.to(device)\n",
    "                \n",
    "            outputs = model_CNN(images)\n",
    "            preds = torch.argmax(outputs, axis=1)\n",
    "            acc.update(preds, labels)\n",
    "\n",
    "    accuracy = acc.compute()\n",
    "    model_CNN.train()\n",
    "    return accuracy"
   ]
  },
  {
   "cell_type": "code",
   "execution_count": 82,
   "metadata": {
    "id": "aP7fKkKKy3T6"
   },
   "outputs": [],
   "source": [
    "def get_loss(loader):\n",
    "    model_CNN.eval()\n",
    "    loss = 0\n",
    "    with torch.no_grad():\n",
    "        for i, (images, labels) in enumerate(loader):\n",
    "            if gpu_available and use_gpu:\n",
    "                images = images.cuda()\n",
    "                labels = labels.cuda()\n",
    "            outputs = model_CNN(images)\n",
    "            loss = loss + criterion(outputs, labels)\n",
    "    return loss / len(loader.dataset)"
   ]
  },
  {
   "cell_type": "code",
   "execution_count": 83,
   "metadata": {
    "id": "W0OIJ6GAy5Me"
   },
   "outputs": [],
   "source": [
    "class EarlyStopper:\n",
    "    def __init__(self, patience=1):\n",
    "        self.patience = patience\n",
    "        self.counter = 0\n",
    "        self.min_validation_loss = float('inf')\n",
    "\n",
    "    def early_stop(self, validation_loss):\n",
    "        if validation_loss < self.min_validation_loss:\n",
    "            self.min_validation_loss = validation_loss\n",
    "            self.counter = 0\n",
    "            torch.save(model_CNN.state_dict(), \"./best_model.pt\")\n",
    "        elif validation_loss > self.min_validation_loss:\n",
    "            self.counter += 1\n",
    "            if self.counter >= self.patience:\n",
    "                return True\n",
    "        return False\n",
    "\n",
    "early_stopper = EarlyStopper(patience=3)"
   ]
  },
  {
   "cell_type": "code",
   "execution_count": null,
   "metadata": {
    "id": "peFk3vYKy8nP"
   },
   "outputs": [
    {
     "name": "stdout",
     "output_type": "stream",
     "text": [
      "Epoch 1  batch 1 . Training Loss:  3.7624692916870117\n",
      "Epoch [1/35], Train Accuracy: 0.1085, Validation Accuracy: 0.1050\n",
      "Epoch 2  batch 1 . Training Loss:  3.745945692062378\n",
      "Epoch [2/35], Train Accuracy: 0.1682, Validation Accuracy: 0.1519\n",
      "Epoch 3  batch 1 . Training Loss:  3.657038688659668\n",
      "Epoch [3/35], Train Accuracy: 0.2197, Validation Accuracy: 0.2042\n",
      "Epoch 4  batch 1 . Training Loss:  3.532409429550171\n",
      "Epoch [4/35], Train Accuracy: 0.2772, Validation Accuracy: 0.2595\n",
      "Epoch 5  batch 1 . Training Loss:  3.5738489627838135\n",
      "Epoch [5/35], Train Accuracy: 0.3076, Validation Accuracy: 0.2941\n",
      "Epoch 6  batch 1 . Training Loss:  3.5138700008392334\n",
      "Epoch [6/35], Train Accuracy: 0.3327, Validation Accuracy: 0.3186\n",
      "Epoch 7  batch 1 . Training Loss:  3.4428744316101074\n",
      "Epoch [7/35], Train Accuracy: 0.3439, Validation Accuracy: 0.3262\n",
      "Epoch 8  batch 1 . Training Loss:  3.4231317043304443\n",
      "Epoch [8/35], Train Accuracy: 0.3692, Validation Accuracy: 0.3515\n",
      "Epoch 9  batch 1 . Training Loss:  3.50309419631958\n",
      "Epoch [9/35], Train Accuracy: 0.3754, Validation Accuracy: 0.3607\n",
      "Epoch 10  batch 1 . Training Loss:  3.3981125354766846\n",
      "Epoch [10/35], Train Accuracy: 0.3852, Validation Accuracy: 0.3697\n",
      "Epoch 11  batch 1 . Training Loss:  3.4340717792510986\n",
      "Epoch [11/35], Train Accuracy: 0.3883, Validation Accuracy: 0.3738\n",
      "Epoch 12  batch 1 . Training Loss:  3.452211856842041\n",
      "Epoch [12/35], Train Accuracy: 0.4054, Validation Accuracy: 0.3901\n",
      "Epoch 13  batch 1 . Training Loss:  3.351360559463501\n",
      "Epoch [13/35], Train Accuracy: 0.4192, Validation Accuracy: 0.4020\n",
      "Epoch 14  batch 1 . Training Loss:  3.367687702178955\n",
      "Epoch [14/35], Train Accuracy: 0.4252, Validation Accuracy: 0.4057\n",
      "Epoch 15  batch 1 . Training Loss:  3.3884658813476562\n",
      "Epoch [15/35], Train Accuracy: 0.4317, Validation Accuracy: 0.4158\n",
      "Epoch 16  batch 1 . Training Loss:  3.365931510925293\n",
      "Epoch [16/35], Train Accuracy: 0.4407, Validation Accuracy: 0.4262\n",
      "Epoch 17  batch 1 . Training Loss:  3.36480712890625\n",
      "Epoch [17/35], Train Accuracy: 0.4485, Validation Accuracy: 0.4308\n",
      "Epoch 18  batch 1 . Training Loss:  3.347071647644043\n",
      "Epoch [18/35], Train Accuracy: 0.4563, Validation Accuracy: 0.4376\n",
      "Epoch 19  batch 1 . Training Loss:  3.3110716342926025\n",
      "Epoch [19/35], Train Accuracy: 0.4546, Validation Accuracy: 0.4353\n",
      "Epoch 20  batch 1 . Training Loss:  3.3145718574523926\n",
      "Epoch [22/35], Train Accuracy: 0.4804, Validation Accuracy: 0.4590\n",
      "Epoch 23  batch 1 . Training Loss:  3.3423893451690674\n"
     ]
    }
   ],
   "source": [
    "# Training loop\n",
    "for epoch in range(configs['epochs']):\n",
    "    for i, (images, labels) in enumerate(train_loader):\n",
    "        optimizer.zero_grad()\n",
    "\n",
    "        if gpu_available and use_gpu:\n",
    "            images = images.cuda()\n",
    "            labels = labels.cuda()\n",
    "            model = model_CNN.cuda()\n",
    "        outputs = model_CNN(images)\n",
    "        loss = criterion(outputs, labels)\n",
    "        loss.backward()\n",
    "        optimizer.step()\n",
    "\n",
    "        if i % 100 == 0:\n",
    "            print(\"Epoch\", epoch + 1, \" batch\", i + 1, \". Training Loss: \", loss.item())\n",
    "            if enable_wandb:\n",
    "                wandb.log({\"loss\": loss})\n",
    "\n",
    "    # Calculate training and validation accuracy\n",
    "    train_acc = get_accuracy(train_loader, model_CNN)\n",
    "    val_acc = get_accuracy(val_loader, model_CNN)\n",
    "\n",
    "    print(f'Epoch [{epoch + 1}/{configs[\"epochs\"]}], Train Accuracy: {train_acc.item():.4f}, Validation Accuracy: {val_acc.item():.4f}')\n",
    "\n",
    "    if enable_wandb:\n",
    "        wandb.log({\"epoch\": epoch + 1, \"train_accuracy\": train_acc.item(), \"val_accuracy\": val_acc.item()})\n",
    "\n",
    "    # Calculate validation loss\n",
    "    validation_loss = get_loss(val_loader)\n",
    "\n",
    "    # Check for early stopping\n",
    "    if early_stopper.early_stop(validation_loss):\n",
    "        print(\"Validation loss hasn't dropped. Early stopping!\")\n",
    "        break"
   ]
  },
  {
   "cell_type": "code",
   "execution_count": 63,
   "metadata": {},
   "outputs": [],
   "source": [
    "if enable_wandb:\n",
    "  wandb.finish()"
   ]
  },
  {
   "cell_type": "markdown",
   "metadata": {
    "id": "Goom7I9-MaLm"
   },
   "source": [
    "-----"
   ]
  },
  {
   "cell_type": "markdown",
   "metadata": {
    "id": "63E-98XlYngo"
   },
   "source": [
    "## Sources:\n",
    "- Generative AI was utilized for Debugging, code improvement, sentence structure and grammar.\n",
    "- https://blog.keras.io/building-powerful-image-classification-models-using-very-little-data.html\n",
    "- https://medium.com/@zergtant/use-weighted-loss-function-to-solve-imbalanced-data-classification-problems-749237f38b75 \n",
    "- https://thevatsalsaglani.medium.com/multi-class-image-classification-using-cnn-over-pytorch-and-the-basics-of-cnn-fdf425a11dc0"
   ]
  }
 ],
 "metadata": {
  "accelerator": "GPU",
  "colab": {
   "gpuType": "T4",
   "provenance": []
  },
  "kernelspec": {
   "display_name": "Python 3 (ipykernel)",
   "language": "python",
   "name": "python3"
  },
  "language_info": {
   "codemirror_mode": {
    "name": "ipython",
    "version": 3
   },
   "file_extension": ".py",
   "mimetype": "text/x-python",
   "name": "python",
   "nbconvert_exporter": "python",
   "pygments_lexer": "ipython3",
   "version": "3.10.12"
  }
 },
 "nbformat": 4,
 "nbformat_minor": 1
}
