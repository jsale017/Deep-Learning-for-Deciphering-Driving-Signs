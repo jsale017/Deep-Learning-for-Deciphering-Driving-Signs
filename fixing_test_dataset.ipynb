{
  "nbformat": 4,
  "nbformat_minor": 0,
  "metadata": {
    "colab": {
      "provenance": [],
      "machine_shape": "hm",
      "gpuType": "T4"
    },
    "kernelspec": {
      "name": "python3",
      "display_name": "Python 3"
    },
    "language_info": {
      "name": "python"
    },
    "accelerator": "GPU"
  },
  "cells": [
    {
      "cell_type": "markdown",
      "source": [
        "# This was the notebook used to convert the Test datset we retrieved from Kaggle into the same format as our original Train Dataset"
      ],
      "metadata": {
        "id": "GEzaw00Va9Vl"
      }
    },
    {
      "cell_type": "code",
      "execution_count": null,
      "metadata": {
        "id": "752SutZ_4Z0M"
      },
      "outputs": [],
      "source": [
        "import numpy as np\n",
        "import pandas as pd\n",
        "import tensorflow as tf\n",
        "import os\n",
        "\n",
        "#Image related\n",
        "import cv2\n",
        "from PIL import Image\n",
        "\n",
        "\n",
        "import matplotlib.pyplot as plt\n",
        "import seaborn as sns\n",
        "\n",
        "#Time\n",
        "import time\n",
        "import datetime"
      ]
    },
    {
      "cell_type": "code",
      "source": [
        "data = []\n",
        "labels = []\n",
        "\n",
        "#Define total number of classes in the datasets\n",
        "classes = 43\n",
        "\n",
        "#Retrieves the current working directory - to be used later to load the data\n",
        "cur_path = os.getcwd()"
      ],
      "metadata": {
        "id": "6DwpIi5h4odm"
      },
      "execution_count": null,
      "outputs": []
    },
    {
      "cell_type": "code",
      "source": [
        "from google.colab import drive\n",
        "drive.mount('/content/drive')\n"
      ],
      "metadata": {
        "colab": {
          "base_uri": "https://localhost:8080/"
        },
        "id": "EF88WqxM5jR6",
        "outputId": "0a541a29-19a1-4954-f9a6-9e5b5718ee62"
      },
      "execution_count": null,
      "outputs": [
        {
          "output_type": "stream",
          "name": "stdout",
          "text": [
            "Mounted at /content/drive\n"
          ]
        }
      ]
    },
    {
      "cell_type": "code",
      "source": [
        "import cv2\n",
        "import pandas as pd\n",
        "import os\n",
        "import shutil\n",
        "\n",
        "#Load the CSV to get image paths and labels\n",
        "csv_path = '/content/drive/MyDrive/BU_MSBA/BA865 - Neural Networks/BA865 - Group Project/GTSRBkaggle/Test.csv'\n",
        "y_test_df = pd.read_csv(csv_path)\n",
        "\n",
        "#Define the base path where the original test images are stored\n",
        "base_path = '/content/drive/MyDrive/BU_MSBA/BA865 - Neural Networks/BA865 - Group Project/GTSRBkaggle/'\n",
        "\n",
        "#Define the path for the new organized test images (without resizing)\n",
        "new_base_path = os.path.join(base_path, 'Test_organized')\n",
        "\n",
        "#Create the new base directory if it does not exist\n",
        "if not os.path.exists(new_base_path):\n",
        "    os.makedirs(new_base_path)\n",
        "\n",
        "#Iterate over the DataFrame rows\n",
        "for i, row in y_test_df.iterrows():\n",
        "    img_path, label = row['Path'], row['ClassId']\n",
        "    full_path = os.path.join(base_path, img_path)\n",
        "    new_dir_path = os.path.join(new_base_path, str(label))\n",
        "\n",
        "    #Create a directory for the class if it does not exist\n",
        "    if not os.path.exists(new_dir_path):\n",
        "        os.makedirs(new_dir_path)\n",
        "\n",
        "    try:\n",
        "        #Define the new image path\n",
        "        new_img_path = os.path.join(new_dir_path, os.path.basename(img_path))\n",
        "\n",
        "        #Copy the original image to the new path without altering its size\n",
        "        shutil.copy(full_path, new_img_path)\n",
        "    except Exception as e:\n",
        "        print(f\"Error processing image {full_path}: {e}\")\n",
        "\n",
        "    #Print progress\n",
        "    if (i + 1) % 100 == 0:\n",
        "        print(f\"Processed {i + 1} images\")\n",
        "\n",
        "print(\"Image organization complete.\")\n"
      ],
      "metadata": {
        "colab": {
          "base_uri": "https://localhost:8080/"
        },
        "id": "5AELM_nuKJe1",
        "outputId": "a6bd9325-3a19-43cd-8813-0c2f5744c4a0"
      },
      "execution_count": null,
      "outputs": [
        {
          "output_type": "stream",
          "name": "stdout",
          "text": [
            "Processed 100 images\n",
            "Processed 200 images\n",
            "Processed 300 images\n",
            "Processed 400 images\n",
            "Processed 500 images\n",
            "Processed 600 images\n",
            "Processed 700 images\n",
            "Processed 800 images\n",
            "Processed 900 images\n",
            "Processed 1000 images\n",
            "Processed 1100 images\n",
            "Processed 1200 images\n",
            "Processed 1300 images\n",
            "Processed 1400 images\n",
            "Processed 1500 images\n",
            "Processed 1600 images\n",
            "Processed 1700 images\n",
            "Processed 1800 images\n",
            "Processed 1900 images\n",
            "Processed 2000 images\n",
            "Processed 2100 images\n",
            "Processed 2200 images\n",
            "Processed 2300 images\n",
            "Processed 2400 images\n",
            "Processed 2500 images\n",
            "Processed 2600 images\n",
            "Processed 2700 images\n",
            "Processed 2800 images\n",
            "Processed 2900 images\n",
            "Processed 3000 images\n",
            "Processed 3100 images\n",
            "Processed 3200 images\n",
            "Processed 3300 images\n",
            "Processed 3400 images\n",
            "Processed 3500 images\n",
            "Processed 3600 images\n",
            "Processed 3700 images\n",
            "Processed 3800 images\n",
            "Processed 3900 images\n",
            "Processed 4000 images\n",
            "Processed 4100 images\n",
            "Processed 4200 images\n",
            "Processed 4300 images\n",
            "Processed 4400 images\n",
            "Processed 4500 images\n",
            "Processed 4600 images\n",
            "Processed 4700 images\n",
            "Processed 4800 images\n",
            "Processed 4900 images\n",
            "Processed 5000 images\n",
            "Processed 5100 images\n",
            "Processed 5200 images\n",
            "Processed 5300 images\n",
            "Processed 5400 images\n",
            "Processed 5500 images\n",
            "Processed 5600 images\n",
            "Processed 5700 images\n",
            "Processed 5800 images\n",
            "Processed 5900 images\n",
            "Processed 6000 images\n",
            "Processed 6100 images\n",
            "Processed 6200 images\n",
            "Processed 6300 images\n",
            "Processed 6400 images\n",
            "Processed 6500 images\n",
            "Processed 6600 images\n",
            "Processed 6700 images\n",
            "Processed 6800 images\n",
            "Processed 6900 images\n",
            "Processed 7000 images\n",
            "Processed 7100 images\n",
            "Processed 7200 images\n",
            "Processed 7300 images\n",
            "Processed 7400 images\n",
            "Processed 7500 images\n",
            "Processed 7600 images\n",
            "Processed 7700 images\n",
            "Processed 7800 images\n",
            "Processed 7900 images\n",
            "Processed 8000 images\n",
            "Processed 8100 images\n",
            "Processed 8200 images\n",
            "Processed 8300 images\n",
            "Processed 8400 images\n",
            "Processed 8500 images\n",
            "Processed 8600 images\n",
            "Processed 8700 images\n",
            "Processed 8800 images\n",
            "Processed 8900 images\n",
            "Processed 9000 images\n",
            "Processed 9100 images\n",
            "Processed 9200 images\n",
            "Processed 9300 images\n",
            "Processed 9400 images\n",
            "Processed 9500 images\n",
            "Processed 9600 images\n",
            "Processed 9700 images\n",
            "Processed 9800 images\n",
            "Processed 9900 images\n",
            "Processed 10000 images\n",
            "Processed 10100 images\n",
            "Processed 10200 images\n",
            "Processed 10300 images\n",
            "Processed 10400 images\n",
            "Processed 10500 images\n",
            "Processed 10600 images\n",
            "Processed 10700 images\n",
            "Processed 10800 images\n",
            "Processed 10900 images\n",
            "Processed 11000 images\n",
            "Processed 11100 images\n",
            "Processed 11200 images\n",
            "Processed 11300 images\n",
            "Processed 11400 images\n",
            "Processed 11500 images\n",
            "Processed 11600 images\n",
            "Processed 11700 images\n",
            "Processed 11800 images\n",
            "Processed 11900 images\n",
            "Processed 12000 images\n",
            "Processed 12100 images\n",
            "Processed 12200 images\n",
            "Processed 12300 images\n",
            "Processed 12400 images\n",
            "Processed 12500 images\n",
            "Processed 12600 images\n",
            "Image organization complete.\n"
          ]
        }
      ]
    },
    {
      "cell_type": "markdown",
      "source": [
        "Sources: GPT"
      ],
      "metadata": {
        "id": "9f7g-QIh_MM0"
      }
    }
  ]
}